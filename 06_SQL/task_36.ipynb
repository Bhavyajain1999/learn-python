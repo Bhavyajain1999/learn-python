{
  "cells": [
    {
      "cell_type": "code",
      "execution_count": null,
      "metadata": {
        "id": "Lx3OWsZxGHaH"
      },
      "outputs": [],
      "source": []
    },
    {
      "cell_type": "markdown",
      "metadata": {
        "id": "rp-6tPAYGMYz"
      },
      "source": [
        "**Note: Try to avoid *GROUP BY* clause to solve the problems**\n",
        "\n",
        "For the problems use the *Health Insurance Claim* dataset. You can get the details as well as the dataset from [here](https://www.kaggle.com/datasets/thedevastator/insurance-claim-analysis-demographic-and-health).\n",
        "\n",
        "### **Problem 1:** What are the top 5 patients who claimed the highest insurance amounts?\n",
        "\n",
        "SELECT *,DENSE_RANK() OVER(ORDER BY claim DESC) FROM insurance LIMIT 5;\n",
        "\n",
        "### **Problem 2:** What is the average insurance claimed by patients based on the number of children they have?\n",
        "\n",
        "SELECT children,avg_claim FROM (SELECT *,\n",
        "AVG(claim) OVER(PARTITION BY children) AS avg_claim,\n",
        "ROW_NUMBER() OVER(PARTITION BY children) AS row_num\n",
        "FROM insurance_data) t\n",
        "WHERE t.row_num = 1;\n",
        "\n",
        "\n",
        "### **Problem 3:** What is the highest and lowest claimed amount by patients in each region?\n",
        "\n",
        "SELECT region,min_claim,max_claim FROM (SELECT *,\n",
        "min(claim) OVER(PARTITION BY region) AS min_claim,\n",
        "max(claim) OVER(PARTITION BY region) AS max_claim,\n",
        "ROW_NUMBER() OVER(PARTITION BY region) AS row_num\n",
        "FROM insurance_data) t\n",
        "WHERE t.row_num = 1;\n",
        "\n",
        "\n",
        "### **Problem 4:** What is the percentage of smokers in each age group?\n",
        "\n",
        "\n",
        "\n",
        "### **Problem 5:** What is the difference between the claimed amount of each patient and the first claimed amount of that patient?\n",
        "\n",
        "\n",
        "SELECT *,\n",
        "claim - FIRST_VALUE(claim) OVER() AS diff\n",
        "FROM insurance_data;\n",
        "\n",
        "\n",
        "### **Problem 6:** For each patient, calculate the difference between their claimed amount and the average claimed amount of patients with the same number of children.\n",
        "\n",
        "\n",
        "SELECT *,\n",
        "claim - AVG(claim) OVER(PARTITION BY children)\n",
        "FROM insurance_data;\n",
        "\n",
        "\n",
        "### **Problem 7:** Show the patient with the highest BMI in each region and their respective rank.\n",
        "\n",
        "select * from (\n",
        "SELECT *,\n",
        "min(bmi) OVER(PARTITION BY region) as min_bmi,\n",
        "max(bmi) over(partition by region) as max_bmi\n",
        "FROM insurance_data)t\n",
        "where  bmi = t.max_bmi\n",
        "\n",
        "\n",
        "SELECT * FROM (SELECT *,\n",
        "RANK() OVER(PARTITION BY region ORDER BY bmi DESC) AS group_rank,\n",
        "RANK() OVER(ORDER BY bmi DESC) AS overall_rank\n",
        "FROM insurance_data) t\n",
        "WHERE t.group_rank = 1;\n",
        "\n",
        "\n",
        "### **Problem 8:** Calculate the difference between the claimed amount of each patient and the claimed amount of the patient who has the highest BMI in their region.\n",
        "\n",
        "\n",
        "\n",
        "SELECT *,\n",
        "claim - FIRST_VALUE(claim) OVER(PARTITION BY region ORDER BY bmi DESC)\n",
        "FROM insurance_data;\n",
        "\n",
        "\n",
        "\n",
        "### **Problem 9:** For each patient, calculate the difference in claim amount between the patient and the patient with the highest claim amount among patients with the same bmi and smoker status, within the same region. Return the result in descending order difference.\n",
        "\n",
        "SELECT *,\n",
        "(MAX(claim) OVER(PARTITION BY region,smoker,bmi) - claim) AS claim_diff\n",
        "FROM insurance_data\n",
        "ORDER BY claim_diff DESC;\n",
        "\n",
        "\n",
        "### **Problem 10:** For each patient, find the maximum BMI value among their next three records (ordered by age).\n",
        "\n",
        "    SELECT *,\n",
        "MAX(bmi) OVER(ORDER BY age ROWS BETWEEN 1 FOLLOWING AND 3 FOLLOWING)\n",
        "FROM insurance_data;\n",
        "\n",
        "\n",
        "### **Problem 11:** For each patient, find the rolling average of the last 2 claims.\n",
        "\n",
        "    SELECT *,\n",
        "AVG(claim) OVER(ROWS BETWEEN 2 PRECEDING AND 1 PRECEDING)\n",
        "FROM insurance_data;\n",
        "\n",
        "\n",
        "### **Problem 12:** Find the first claimed insurance value for male and female patients, within each region order the data by patient age in ascending order, and only include patients who are non-diabetic and have a bmi value between 25 and 30.\n",
        "\n",
        "WITH filtered_data AS (\n",
        "\tSELECT * FROM insurance_data\n",
        "    WHERE diabetic = 'No' AND bmi BETWEEN 25 AND 30\n",
        ")\n",
        "\n",
        "SELECT region,gender,first_claim FROM (SELECT *,\n",
        "FIRST_VALUE(claim) OVER(PARTITION BY region,gender ORDER BY age) AS first_claim,\n",
        "ROW_NUMBER() OVER(PARTITION BY region,gender ORDER BY age) AS row_num\n",
        "FROM filtered_data) t\n",
        "WHERE t.row_num = 1\n"
      ]
    },
    {
      "cell_type": "code",
      "execution_count": null,
      "metadata": {
        "id": "OHrwHkGWGNB_"
      },
      "outputs": [],
      "source": []
    },
    {
      "cell_type": "markdown",
      "metadata": {
        "id": "ykcQQHQlGvFs"
      },
      "source": []
    },
    {
      "cell_type": "markdown",
      "metadata": {
        "id": "WgSE75JGGy2Q"
      },
      "source": []
    },
    {
      "cell_type": "markdown",
      "metadata": {
        "id": "eZCGiXEFG3pc"
      },
      "source": []
    },
    {
      "cell_type": "code",
      "execution_count": null,
      "metadata": {
        "id": "F3smsFiqGvnw"
      },
      "outputs": [],
      "source": []
    }
  ],
  "metadata": {
    "colab": {
      "provenance": []
    },
    "kernelspec": {
      "display_name": "Python 3",
      "name": "python3"
    },
    "language_info": {
      "name": "python"
    }
  },
  "nbformat": 4,
  "nbformat_minor": 0
}
