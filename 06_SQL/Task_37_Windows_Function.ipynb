{
  "cells": [
    {
      "cell_type": "code",
      "execution_count": null,
      "metadata": {
        "id": "l9ildR2YWm-j"
      },
      "outputs": [],
      "source": [
        "# Topics List\n",
        "# Ranking\n",
        "# Cumulative Sum -> sales data\n",
        "# Cumulative Average\n",
        "# Running Average\n",
        "# Percent of total\n",
        "\n",
        "# Percent Change -> stocks data\n",
        "# Percentage change for a specific window -> stocks data\n",
        "# Quantiles/Percentiles - percentile_disc ->\n",
        "# PERCENTILE_CONT\n",
        "# Segmentation\n",
        "# Cumulative Distribution\n",
        "# Partition By Multiple Columns"
      ]
    },
    {
      "cell_type": "markdown",
      "metadata": {
        "id": "WjVvz5SKXbyh"
      },
      "source": [
        "## DataSet: Northwind"
      ]
    },
    {
      "cell_type": "markdown",
      "metadata": {
        "id": "RL8821thwmAx"
      },
      "source": [
        "## Problem 1-4 : NorthWinddatset https://relational.fit.cvut.cz/dataset/Northwind\n",
        "\n",
        "How to download the dataset\n",
        "\n",
        "To download the dataset you need to create connection in your mysql workbench\n",
        "\n",
        "The datasets are publicly available directly from MariaDB database.\n",
        "\n",
        "* Open your favourite MariaDB client (MySQL Workbench)\n",
        "Use following credentials:\n",
        "```\n",
        "    hostname: relational.fit.cvut.cz\n",
        "    port: 3306\n",
        "    username: guest\n",
        "    password: relational\n",
        "```\n",
        "Drive link: https://drive.google.com/drive/folders/1FMi6g1KDHbn17ikJSi7bE9-THywlxhdu?usp=sharing"
      ]
    },
    {
      "cell_type": "markdown",
      "metadata": {
        "id": "knR4TsMDYF2X"
      },
      "source": [
        "###`Q-1`: Rank Employee in terms of revenue generation. Show employee id, first name, revenue, and rank"
      ]
    },
    {
      "cell_type": "markdown",
      "metadata": {
        "id": "9Btehg-tYKqX"
      },
      "source": [
        "\n",
        "\n",
        "```sql\n",
        "SELECT \n",
        "    e.EmployeeID, \n",
        "    e.FirstName, \n",
        "    SUM(od.UnitPrice * od.Quantity) AS revenue,\n",
        "    RANK() OVER (ORDER BY SUM(od.UnitPrice * od.Quantity) DESC) AS EmpRank\n",
        "FROM \n",
        "    Orders o \n",
        "JOIN \n",
        "    order_details od ON od.OrderID = o.OrderID\n",
        "JOIN \n",
        "    Employees e ON e.EmployeeID = o.EmployeeID\n",
        "GROUP BY \n",
        "    e.EmployeeID, \n",
        "    e.FirstName\n",
        "ORDER BY \n",
        "    EmpRank;\n",
        "```\n",
        "\n"
      ]
    },
    {
      "cell_type": "markdown",
      "metadata": {
        "id": "5ngMBw0jYQ5X"
      },
      "source": [
        "###`Q-2`: Show All products cumulative sum of units sold each month.\n"
      ]
    },
    {
      "cell_type": "markdown",
      "metadata": {
        "id": "ui0ZiWa6YY-z"
      },
      "source": [
        "```sql\n",
        "select p.ProductID, month(o.OrderDate) 'Month', sum(od.Quantity)  as 'QuantitySum',\n",
        "sum(sum(od.Quantity)) over(partition by p.ProductID order by month(o.OrderDate) rows between unbounded preceding and current row) as QuantityCumSum\n",
        "from Orders o join `Order Details` od on od.OrderID = o.OrderID\n",
        "join Products p on p.ProductID = od.ProductID\n",
        "group by p.ProductID, month(o.OrderDate);\n",
        "```"
      ]
    },
    {
      "cell_type": "markdown",
      "metadata": {
        "id": "KRdKaX71Ypjz"
      },
      "source": [
        "###`Q-3`: Show Percentage of total revenue by each suppliers\n"
      ]
    },
    {
      "cell_type": "markdown",
      "metadata": {
        "id": "SilpqyzMYvcj"
      },
      "source": [
        "```sql\n",
        "select s.SupplierId, sum(od.UnitPrice*od.Quantity) as Revenue, sum(od.UnitPrice*od.Quantity) /\n",
        "sum(sum(od.UnitPrice*od.Quantity)) over() * 100 as PercentTotalRevenue\n",
        "from Suppliers s join Products p on p.SupplierId=s.SupplierID\n",
        "join `Order Details` od on p.ProductID=od.ProductID\n",
        "group by s.SupplierId\n",
        "order by Revenue desc;\n",
        "```"
      ]
    },
    {
      "cell_type": "markdown",
      "metadata": {
        "id": "LJ9vyrwHYcNs"
      },
      "source": [
        "###`Q-4:` Show Percentage of total orders by each suppliers"
      ]
    },
    {
      "cell_type": "markdown",
      "metadata": {
        "id": "hfWXixDkYeml"
      },
      "source": [
        "```sql\n",
        "select s.SupplierId, count(distinct od.OrderID) as NumberOfOrder, count(distinct od.OrderID) /\n",
        "sum(count(distinct od.OrderID)) over() * 100 as PercentTotalOrder\n",
        "from Suppliers s join Products p on p.SupplierId=s.SupplierID\n",
        "join `Order Details` od on p.ProductID=od.ProductID\n",
        "group by s.SupplierId\n",
        "order by NumberOfOrder desc;\n",
        "```"
      ]
    },
    {
      "cell_type": "markdown",
      "metadata": {
        "id": "WTK96y_WYwU6"
      },
      "source": [
        "### `Q-5`:Show All Products Year Wise report of totalQuantity sold, percentage change from last year."
      ]
    },
    {
      "cell_type": "markdown",
      "metadata": {
        "id": "5a8vXllDY2dT"
      },
      "source": [
        "```sql\n",
        "select *, 100 *(Quantity - lag(Quantity) over(partition  by ProductId order by ProductId, Year))/lag(Quantity) over(partition  by ProductId order by ProductId, Year) PercentageChange\n",
        "from (select p.ProductID, year(o.OrderDate) Year, sum( od.Quantity)  as 'Quantity'\n",
        "from Orders o join `Order Details` od on od.OrderID = o.OrderID\n",
        "join Products p on p.ProductID = od.ProductID\n",
        "group by p.ProductID,year(o.OrderDate)\n",
        "order by p.ProductID,year(o.OrderDate)) t\n",
        "```"
      ]
    },
    {
      "cell_type": "markdown",
      "metadata": {
        "id": "g7v3IN-N_RWZ"
      },
      "source": [
        "## Problem 6 - 15\n",
        "\n",
        "For the next problems, you can get the dataset as well as the details [here](https://www.kaggle.com/datasets/thedevastator/drug-performance-evaluation?select=Drug_clean.csv) (Use the *cleaned* csv file)."
      ]
    },
    {
      "cell_type": "markdown",
      "metadata": {
        "id": "h79yp4M1_2Gp"
      },
      "source": [
        "### **`Problem-6:`** For each condition, what is the average satisfaction level of drugs that are \"On Label\" vs \"Off Label\"?"
      ]
    },
    {
      "cell_type": "markdown",
      "metadata": {
        "id": "nJYe9TA5AAsy"
      },
      "source": [
        "```sql\n",
        "-- Solution\n",
        "\n",
        "WITH temp_df AS (\n",
        "        SELECT\n",
        "            drugs.Condition,\n",
        "            drugs.Indication,\n",
        "            drugs.Satisfaction,\n",
        "            ROUND(\n",
        "                AVG(drugs.Satisfaction) OVER(\n",
        "                    PARTITION BY drugs.Condition,\n",
        "                    drugs.Indication\n",
        "                    ORDER BY drugs.Satisfaction\n",
        "                    ROWS BETWEEN UNBOUNDED PRECEDING\n",
        "                        AND UNBOUNDED FOLLOWING\n",
        "                ),\n",
        "                2\n",
        "            ) AS avg_satisfaction,\n",
        "            DENSE_RANK() OVER(\n",
        "                PARTITION BY drugs.Condition,\n",
        "                drugs.Indication\n",
        "                ORDER BY\n",
        "                    drugs.Satisfaction\n",
        "            ) AS rank_num\n",
        "        FROM drugs\n",
        "    )\n",
        "SELECT\n",
        "    temp_df.Condition,\n",
        "    temp_df.Indication,\n",
        "    temp_df.avg_satisfaction\n",
        "FROM temp_df\n",
        "where rank_num = 1;\n",
        "```"
      ]
    },
    {
      "cell_type": "markdown",
      "metadata": {
        "id": "WlFaAZblALkv"
      },
      "source": [
        "### **`Problem-7:`** For each drug type (RX, OTC, RX/OTC), what is the average ease of use and satisfaction level of drugs with a price above the median for their type?"
      ]
    },
    {
      "cell_type": "markdown",
      "metadata": {
        "id": "2JE5xQsWAP7f"
      },
      "source": [
        "```sql\n",
        "-- Solution\n",
        "\n",
        "WITH temp_df as (\n",
        "    SELECT Type,\n",
        "        AVG(EaseOfUse) OVER(PARTITION BY Type) AS avg_ease_of_use,\n",
        "        AVG(Satisfaction) OVER(PARTITION BY Type) AS avg_satisfaction\n",
        "    FROM (\n",
        "        SELECT\n",
        "            Type, Price,\n",
        "            PERCENTILE_CONT(0.5) WITHIN GROUP (\n",
        "                ORDER BY Price\n",
        "            ) OVER (PARTITION BY Type) AS median_price,\n",
        "            EaseOfUse,\n",
        "            Satisfaction\n",
        "        FROM drugs WHERE Type IN ('RX', 'OTC', 'RX/OTC')\n",
        "    ) AS subquery\n",
        "    WHERE Price >= median_price\n",
        ")\n",
        "\n",
        "SELECT Type, avg_ease_of_use, avg_satisfaction FROM temp_df GROUP BY Type;\n",
        "```"
      ]
    },
    {
      "cell_type": "markdown",
      "metadata": {
        "id": "PwqX8M3QAUX_"
      },
      "source": [
        "### **`Problem 8:`** What is the cumulative distribution of EaseOfUse ratings for each drug type (RX, OTC, RX/OTC)? Show the results in descending order by drug type and cumulative distribution. (Use the built-in method and the manual method by calculating on your own.)"
      ]
    },
    {
      "cell_type": "markdown",
      "metadata": {
        "id": "7c0dL3K7Aaz2"
      },
      "source": [
        "```sql\n",
        "-- Solution\n",
        "\n",
        "SELECT Type, EaseOfUse,\n",
        "       COUNT(*) OVER (\n",
        "            PARTITION BY Type\n",
        "            ORDER BY EaseOfUse\n",
        "        ) * 1.0 / COUNT(*) OVER (PARTITION BY Type) AS cumulative_dist_manual,\n",
        "        cume_dist() over(\n",
        "            partition by Type\n",
        "            order by EaseOfUse\n",
        "        ) as 'cumulative_dist_builtin'\n",
        "FROM drugs\n",
        "WHERE Type IN ('RX', 'OTC', 'RX/OTC')\n",
        "ORDER BY Type, cumulative_dist DESC;\n",
        "```"
      ]
    },
    {
      "cell_type": "markdown",
      "metadata": {
        "id": "PkNZWjIdAgXP"
      },
      "source": [
        "### **`Problem 9:`** What is the median satisfaction level for each medical condition? Show the results in descending order by median satisfaction level. (Don't repeat the same rows of your result.)"
      ]
    },
    {
      "cell_type": "markdown",
      "metadata": {
        "id": "IBngNzxEAobV"
      },
      "source": [
        "```sql\n",
        "-- Solution\n",
        "\n",
        "WITH temp_df AS (\n",
        "    SELECT drugs.Condition,\n",
        "       PERCENTILE_CONT(0.5) WITHIN GROUP (ORDER BY drugs.Satisfaction) OVER (PARTITION BY drugs.Condition) AS median_satisfaction\n",
        "    FROM drugs\n",
        ")\n",
        "\n",
        "SELECT temp_df.Condition, temp_df.median_satisfaction\n",
        "FROM temp_df\n",
        "GROUP BY temp_df.Condition\n",
        "ORDER BY temp_df.median_satisfaction DESC;\n",
        "```"
      ]
    },
    {
      "cell_type": "markdown",
      "metadata": {
        "id": "0lnxj8WbArTa"
      },
      "source": [
        "### **`Problem 10:`** What is the running average of the price of drugs for each medical condition? Show the results in ascending order by medical condition and drug name."
      ]
    },
    {
      "cell_type": "markdown",
      "metadata": {
        "id": "GoA2weJqAwQa"
      },
      "source": [
        "```sql\n",
        "-- Solution\n",
        "\n",
        "SELECT drug_clean.Condition, drug_clean.drug, ROUND(drug_clean.price, 2),\n",
        "    ROUND(AVG(drug_clean.Price) OVER (\n",
        "        PARTITION BY drug_clean.Condition\n",
        "        ORDER BY drug_clean.drug\n",
        "        ROWS BETWEEN UNBOUNDED PRECEDING AND CURRENT ROW\n",
        "    ), 2) AS running_avg_price\n",
        "FROM drug_clean\n",
        "ORDER BY drug_clean.Condition ASC, drug_clean.drug ASC;\n",
        "```"
      ]
    },
    {
      "cell_type": "markdown",
      "metadata": {
        "id": "6muQ4h08A1aU"
      },
      "source": [
        "### **`Problem 11:`** What is the percentage change in the number of reviews for each drug between the previous row and the current row? Show the results in descending order by percentage change."
      ]
    },
    {
      "cell_type": "markdown",
      "metadata": {
        "id": "HHJ4Wv_dA8Ul"
      },
      "source": [
        "```sql\n",
        "-- Solution\n",
        "\n",
        "SELECT drug.Condition, drug.Drug, drug.Reviews,\n",
        "    (drug.Reviews - LAG(drug.Reviews) OVER (\n",
        "        PARTITION BY drug.Condition, drug.Drug\n",
        "        ORDER BY drug.Reviews DESC)\n",
        "    ) * 100.0 / LAG(drug.Reviews) OVER (\n",
        "        PARTITION BY drug.Condition, drug.Drug\n",
        "        ORDER BY drug.Reviews DESC\n",
        "    ) AS pct_change\n",
        "FROM drug\n",
        "ORDER BY pct_change DESC;\n",
        "```"
      ]
    },
    {
      "cell_type": "markdown",
      "metadata": {
        "id": "Pz5D6mbYBA9C"
      },
      "source": [
        "### **`Problem 12:`** What is the percentage of total satisfaction level for each drug type (RX, OTC, RX/OTC)? Show the results in descending order by drug type and percentage of total satisfaction."
      ]
    },
    {
      "cell_type": "markdown",
      "metadata": {
        "id": "nqpkGbKXBHfJ"
      },
      "source": [
        "```sql\n",
        "-- Solution\n",
        "\n",
        "WITH temp_df AS (\n",
        "    SELECT Type, Satisfaction,\n",
        "        ROUND(SUM(Satisfaction) OVER (PARTITION BY Type) * 100.0 / SUM(Satisfaction) OVER (),2) AS pct_total_satisfaction\n",
        "    FROM drug\n",
        "    WHERE Type IN ('RX', 'OTC', 'RX/OTC')\n",
        "    ORDER BY Type ASC, pct_total_satisfaction DESC\n",
        ")\n",
        "\n",
        "SELECT Type, pct_total_satisfaction FROM temp_df group by Type, pct_total_satisfaction;\n",
        "\n",
        "```"
      ]
    },
    {
      "cell_type": "markdown",
      "metadata": {
        "id": "-nbwy13IBMES"
      },
      "source": [
        "### **`Problem 13:`** What is the cumulative sum of effective ratings for each medical condition and drug form combination? Show the results in ascending order by medical condition, drug form and the name of the drug."
      ]
    },
    {
      "cell_type": "markdown",
      "metadata": {
        "id": "IFXcY0gzBQq6"
      },
      "source": [
        "```sql\n",
        "-- Solution\n",
        "\n",
        "SELECT drug_clean.Condition, drug_clean.Form, drug_clean.Drug,\n",
        "    drug_clean.Effective,\n",
        "    SUM(drug_clean.Effective) OVER (\n",
        "        PARTITION BY drug_clean.Condition, drug_clean.Form\n",
        "        ORDER BY drug_clean.Drug\n",
        "        ROWS BETWEEN UNBOUNDED PRECEDING AND CURRENT ROW\n",
        "    ) AS cumulative_sum_effective\n",
        "FROM drug_clean\n",
        "ORDER BY\n",
        "    drug_clean.Condition ASC,\n",
        "    drug_clean.Form ASC,\n",
        "    drug_clean.Drug ASC;\n",
        "```"
      ]
    },
    {
      "cell_type": "markdown",
      "metadata": {
        "id": "5BqsXHFfBVKp"
      },
      "source": [
        "### **`Problem-14:`** What is the rank of the average ease of use for each drug type (RX, OTC, RX/OTC)? Show the results in descending order by rank and drug type."
      ]
    },
    {
      "cell_type": "markdown",
      "metadata": {
        "id": "mj_CUTjVBZ0C"
      },
      "source": [
        "```sql\n",
        "-- Solution\n",
        "\n",
        "SELECT\n",
        "  Type,\n",
        "  AVG(EaseOfUse) AS average_ease_of_use,\n",
        "  RANK() OVER (ORDER BY AVG(EaseOfUse) DESC) AS 'rank'\n",
        "FROM drugs\n",
        "WHERE Type IN ('RX', 'OTC', 'RX/OTC')\n",
        "GROUP BY Type;\n",
        "```"
      ]
    },
    {
      "cell_type": "markdown",
      "metadata": {
        "id": "HfR745l8BeCg"
      },
      "source": [
        "### **`Problem-15:`** For each condition, what is the average effectiveness of the top 3 most reviewed drugs?"
      ]
    },
    {
      "cell_type": "markdown",
      "metadata": {
        "id": "xLZuc6QnBkKA"
      },
      "source": [
        "```sql\n",
        "-- Solution\n",
        "\n",
        "SELECT * FROM (\n",
        "    SELECT\n",
        "        drugs.Condition,\n",
        "        drugs.Drug,\n",
        "        ROUND(drugs.Reviews, 2) AS 'Reviews',\n",
        "        ROUND(AVG(drugs.Effective) OVER (\n",
        "            PARTITION BY drugs.Condition, drugs.Drug\n",
        "            ORDER BY drugs.Reviews DESC\n",
        "            ROWS BETWEEN UNBOUNDED PRECEDING AND UNBOUNDED FOLLOWING\n",
        "        ), 2) AS avg_effectiveness,\n",
        "    RANK() OVER (\n",
        "        PARTITION BY drugs.Condition\n",
        "        ORDER BY drugs.Reviews DESC\n",
        "    ) AS rank_num\n",
        "    FROM drugs\n",
        ") t\n",
        "WHERE rank_num <= 3;\n",
        "```\n",
        "\n",
        "```sql\n",
        "\n",
        "-- Alternate Solution\n",
        "\n",
        "SELECT\n",
        "  ranked_drugs.Condition,\n",
        "  drug,\n",
        "  avg_effectiveness,\n",
        "  `rank`\n",
        "FROM (\n",
        "  SELECT\n",
        "    drugs.Condition,\n",
        "    Drug,\n",
        "    AVG(Effective) avg_effectiveness,\n",
        "    ROW_NUMBER() OVER (PARTITION BY drugs.Condition ORDER BY SUM(Reviews) DESC) AS 'rank'\n",
        "  FROM drugs\n",
        "  GROUP BY drugs.Condition, Drug\n",
        ") ranked_drugs\n",
        "WHERE `rank` <= 3\n",
        "order by ranked_drugs.Condition, `rank`;\n",
        "\n",
        "```"
      ]
    },
    {
      "cell_type": "code",
      "execution_count": null,
      "metadata": {
        "id": "E58jXjpSleCP"
      },
      "outputs": [],
      "source": []
    }
  ],
  "metadata": {
    "colab": {
      "provenance": []
    },
    "kernelspec": {
      "display_name": "Python 3",
      "name": "python3"
    },
    "language_info": {
      "name": "python"
    }
  },
  "nbformat": 4,
  "nbformat_minor": 0
}
