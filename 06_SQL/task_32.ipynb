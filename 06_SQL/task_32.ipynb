{
  "cells": [
    {
      "cell_type": "markdown",
      "metadata": {
        "id": "O-kYKh3Z3HoZ"
      },
      "source": [
        "# Task for SQL DML session\n",
        "\n",
        "Load this dataset in your database and perform below given tasks.\n",
        "\n",
        "DataSet - https://docs.google.com/spreadsheets/d/e/2PACX-1vRa1wWwXmzxEvqITxj4OQTeLywlGTTsOTbhSRqKj2lPuGefjlci-DQhgLBPpgWXe8AAUu2WUBqY59X1/pub?gid=1030172542&single=true&output=csv\n",
        "\n",
        "Look for data description\n",
        "\n",
        "Kaggle - https://www.kaggle.com/datasets/thedevastator/insurance-claim-analysis-demographic-and-health?select=insurance_data.csv"
      ]
    },
    {
      "cell_type": "markdown",
      "metadata": {
        "id": "HgeiRIpI3MjR"
      },
      "source": [
        "### Perform the following queries\n",
        "\n",
        "1. Show records of 'male' patient from 'southwest' region.\n",
        "2. Show all records having bmi in range 30 to 45 both inclusive.\n",
        "3. Show minimum and maximum bloodpressure of diabetic patient who smokes. Make column names as MinBP and MaxBP respectively.\n",
        "4. Find no of unique patients who are not from southwest region.\n",
        "5. Total claim amount from male smoker.\n",
        "6. Select all records of south region.\n",
        "7. No of patient having normal blood pressure. Normal range[90-120]\n",
        "8. No of pateint belo 17 years of age having normal blood pressure as per below formula -\n",
        "    - BP normal range = 80+(age in years × 2) to 100 + (age in years × 2)\n",
        "\n",
        "    - Note: Formula taken just for practice, don't take in real sense.\n",
        "9. What is the average claim amount for non-smoking female patients who are diabetic?\n",
        "10. Write a SQL query to update the claim amount for the patient with PatientID = 1234 to 5000.\n",
        "11. Write a SQL query to delete all records for patients who are smokers and have no children.\n"
      ]
    },
    {
      "cell_type": "markdown",
      "metadata": {},
      "source": [
        "1\n",
        "SELECT \n",
        "    *\n",
        "FROM\n",
        "    datascience.insurance\n",
        "WHERE\n",
        "    gender = 'male' AND region = 'southwest'"
      ]
    },
    {
      "cell_type": "markdown",
      "metadata": {},
      "source": [
        "2   \n",
        "\n",
        "SELECT \n",
        "    *\n",
        "FROM\n",
        "    datascience.insurance\n",
        "WHERE\n",
        "    bmi BETWEEN 30 AND 45\n"
      ]
    },
    {
      "cell_type": "markdown",
      "metadata": {},
      "source": [
        "3\n",
        "SELECT \n",
        "    MIN(bloodpressure) AS minbp, MAX(bloodpressure) AS maxbp\n",
        "FROM\n",
        "    datascience.insurance\n",
        "WHERE\n",
        "    smoker = 'Yes' AND diabetic = 'Yes'"
      ]
    },
    {
      "cell_type": "markdown",
      "metadata": {},
      "source": [
        "4\n",
        "SELECT \n",
        "    COUNT(DISTINCT (PatientID)) AS 'total unique patient'\n",
        "FROM\n",
        "    datascience.insurance\n",
        "WHERE\n",
        "    region != 'southwest'\n",
        "    "
      ]
    },
    {
      "cell_type": "markdown",
      "metadata": {},
      "source": [
        "5\n",
        "SELECT \n",
        "    SUM(claim) AS 'total claim'\n",
        "FROM\n",
        "    datascience.insurance\n",
        "WHERE\n",
        "    gender = 'male' AND smoker = 'Yes'"
      ]
    },
    {
      "cell_type": "markdown",
      "metadata": {},
      "source": [
        "6\n",
        "\tSELECT \n",
        "\t\t*\n",
        "\tFROM\n",
        "\t\tdatascience.insurance\n",
        "\tWHERE\n",
        "\t\tregion LIKE '%south%'"
      ]
    },
    {
      "cell_type": "markdown",
      "metadata": {},
      "source": [
        "7\n",
        "\n",
        "\tSELECT \n",
        "    COUNT(DISTINCT (PatientID)) AS 'total people with normalp bp'\n",
        "FROM\n",
        "    datascience.insurance\n",
        "WHERE\n",
        "    bloodpressure BETWEEN 90 AND 120"
      ]
    },
    {
      "cell_type": "markdown",
      "metadata": {},
      "source": [
        "8\tSELECT \n",
        "    COUNT(DISTINCT (PatientID)) AS 'total people with normalp bp'\n",
        "FROM\n",
        "    datascience.insurance\n",
        "WHERE\n",
        "    age < 17\n",
        "        AND bloodpressure BETWEEN 80 + (age * 2) AND 100 + (age * 2)\n"
      ]
    },
    {
      "cell_type": "markdown",
      "metadata": {},
      "source": [
        "9 \tSELECT \n",
        "    ROUND(AVG(claim)) AS 'Avg claim'\n",
        "FROM\n",
        "    datascience.insurance\n",
        "WHERE\n",
        "    gender = 'female' AND smoker = 'No'\n",
        "        AND diabetic = 'Yes'"
      ]
    },
    {
      "cell_type": "markdown",
      "metadata": {},
      "source": [
        "10\n",
        "\n",
        "UPDATE datascience.insurance \n",
        "SET \n",
        "    claim = 5000\n",
        "WHERE\n",
        "    PatientID = 1234;"
      ]
    },
    {
      "cell_type": "markdown",
      "metadata": {},
      "source": [
        "11\n",
        "\n",
        "DELETE FROM insurance\n",
        "WHERE smoker = 'Yes' and children = 0 ;\n",
        "\n"
      ]
    }
  ],
  "metadata": {
    "colab": {
      "provenance": []
    },
    "kernelspec": {
      "display_name": "Python 3",
      "name": "python3"
    },
    "language_info": {
      "name": "python",
      "version": "3.11.7"
    }
  },
  "nbformat": 4,
  "nbformat_minor": 0
}
