{
  "cells": [
    {
      "cell_type": "markdown",
      "metadata": {
        "id": "mGBzdavGOUdP"
      },
      "source": [
        "## **Questions based on Titanic Dataset:**\n",
        "\n",
        "To read the dataset as csv, use the below code:\n",
        "\n",
        "```python\n",
        "import pandas as pd\n",
        "\n",
        "url = \"https://docs.google.com/spreadsheets/d/e/2PACX-1vQjh5HzZ1N0SU7ME9ZQRzeVTaXaGsV97rU8R7eAcg53k27GTstJp9cRUOfr55go1GRRvTz1NwvyOnuh/pub?gid=1562145139&single=true&output=csv\"\n",
        "titanic_df = pd.read_csv(url)\n",
        "```"
      ]
    },
    {
      "cell_type": "code",
      "execution_count": 2,
      "metadata": {},
      "outputs": [],
      "source": [
        "import pandas as pd\n",
        "import numpy as np"
      ]
    },
    {
      "cell_type": "markdown",
      "metadata": {
        "id": "HsmRWKRoOa0-"
      },
      "source": [
        "### `Q-1:` Using `groupby` make groups using the `\"Pclass\"` column and find out the average age and total number of missing values in the `\"Age\"` column for every group."
      ]
    },
    {
      "cell_type": "code",
      "execution_count": 4,
      "metadata": {
        "id": "OdPLAvd4OVS6"
      },
      "outputs": [
        {
          "data": {
            "text/html": [
              "<div>\n",
              "<style scoped>\n",
              "    .dataframe tbody tr th:only-of-type {\n",
              "        vertical-align: middle;\n",
              "    }\n",
              "\n",
              "    .dataframe tbody tr th {\n",
              "        vertical-align: top;\n",
              "    }\n",
              "\n",
              "    .dataframe thead th {\n",
              "        text-align: right;\n",
              "    }\n",
              "</style>\n",
              "<table border=\"1\" class=\"dataframe\">\n",
              "  <thead>\n",
              "    <tr style=\"text-align: right;\">\n",
              "      <th></th>\n",
              "      <th>PassengerId</th>\n",
              "      <th>Survived</th>\n",
              "      <th>Pclass</th>\n",
              "      <th>Name</th>\n",
              "      <th>Sex</th>\n",
              "      <th>Age</th>\n",
              "      <th>SibSp</th>\n",
              "      <th>Parch</th>\n",
              "      <th>Ticket</th>\n",
              "      <th>Fare</th>\n",
              "      <th>Cabin</th>\n",
              "      <th>Embarked</th>\n",
              "    </tr>\n",
              "  </thead>\n",
              "  <tbody>\n",
              "    <tr>\n",
              "      <th>0</th>\n",
              "      <td>1</td>\n",
              "      <td>0</td>\n",
              "      <td>3</td>\n",
              "      <td>Braund, Mr. Owen Harris</td>\n",
              "      <td>male</td>\n",
              "      <td>22.0</td>\n",
              "      <td>1</td>\n",
              "      <td>0</td>\n",
              "      <td>A/5 21171</td>\n",
              "      <td>7.2500</td>\n",
              "      <td>NaN</td>\n",
              "      <td>S</td>\n",
              "    </tr>\n",
              "    <tr>\n",
              "      <th>1</th>\n",
              "      <td>2</td>\n",
              "      <td>1</td>\n",
              "      <td>1</td>\n",
              "      <td>Cumings, Mrs. John Bradley (Florence Briggs Th...</td>\n",
              "      <td>female</td>\n",
              "      <td>38.0</td>\n",
              "      <td>1</td>\n",
              "      <td>0</td>\n",
              "      <td>PC 17599</td>\n",
              "      <td>71.2833</td>\n",
              "      <td>C85</td>\n",
              "      <td>C</td>\n",
              "    </tr>\n",
              "    <tr>\n",
              "      <th>2</th>\n",
              "      <td>3</td>\n",
              "      <td>1</td>\n",
              "      <td>3</td>\n",
              "      <td>Heikkinen, Miss. Laina</td>\n",
              "      <td>female</td>\n",
              "      <td>26.0</td>\n",
              "      <td>0</td>\n",
              "      <td>0</td>\n",
              "      <td>STON/O2. 3101282</td>\n",
              "      <td>7.9250</td>\n",
              "      <td>NaN</td>\n",
              "      <td>S</td>\n",
              "    </tr>\n",
              "    <tr>\n",
              "      <th>3</th>\n",
              "      <td>4</td>\n",
              "      <td>1</td>\n",
              "      <td>1</td>\n",
              "      <td>Futrelle, Mrs. Jacques Heath (Lily May Peel)</td>\n",
              "      <td>female</td>\n",
              "      <td>35.0</td>\n",
              "      <td>1</td>\n",
              "      <td>0</td>\n",
              "      <td>113803</td>\n",
              "      <td>53.1000</td>\n",
              "      <td>C123</td>\n",
              "      <td>S</td>\n",
              "    </tr>\n",
              "    <tr>\n",
              "      <th>4</th>\n",
              "      <td>5</td>\n",
              "      <td>0</td>\n",
              "      <td>3</td>\n",
              "      <td>Allen, Mr. William Henry</td>\n",
              "      <td>male</td>\n",
              "      <td>35.0</td>\n",
              "      <td>0</td>\n",
              "      <td>0</td>\n",
              "      <td>373450</td>\n",
              "      <td>8.0500</td>\n",
              "      <td>NaN</td>\n",
              "      <td>S</td>\n",
              "    </tr>\n",
              "  </tbody>\n",
              "</table>\n",
              "</div>"
            ],
            "text/plain": [
              "   PassengerId  Survived  Pclass  \\\n",
              "0            1         0       3   \n",
              "1            2         1       1   \n",
              "2            3         1       3   \n",
              "3            4         1       1   \n",
              "4            5         0       3   \n",
              "\n",
              "                                                Name     Sex   Age  SibSp  \\\n",
              "0                            Braund, Mr. Owen Harris    male  22.0      1   \n",
              "1  Cumings, Mrs. John Bradley (Florence Briggs Th...  female  38.0      1   \n",
              "2                             Heikkinen, Miss. Laina  female  26.0      0   \n",
              "3       Futrelle, Mrs. Jacques Heath (Lily May Peel)  female  35.0      1   \n",
              "4                           Allen, Mr. William Henry    male  35.0      0   \n",
              "\n",
              "   Parch            Ticket     Fare Cabin Embarked  \n",
              "0      0         A/5 21171   7.2500   NaN        S  \n",
              "1      0          PC 17599  71.2833   C85        C  \n",
              "2      0  STON/O2. 3101282   7.9250   NaN        S  \n",
              "3      0            113803  53.1000  C123        S  \n",
              "4      0            373450   8.0500   NaN        S  "
            ]
          },
          "execution_count": 4,
          "metadata": {},
          "output_type": "execute_result"
        }
      ],
      "source": [
        "# code here\n",
        "titanic_df = pd.read_csv('D:\\\\Coding journey 2024\\\\datascience\\\\panda\\\\task_Datasets\\\\csv\\\\train - train.csv')\n",
        "titanic_df.head()"
      ]
    },
    {
      "cell_type": "code",
      "execution_count": 7,
      "metadata": {},
      "outputs": [
        {
          "name": "stdout",
          "output_type": "stream",
          "text": [
            "Pclass 1 : Avg Age 38.233440860215055 and total missing value 30\n",
            "Pclass 2 : Avg Age 29.87763005780347 and total missing value 11\n",
            "Pclass 3 : Avg Age 25.14061971830986 and total missing value 136\n"
          ]
        }
      ],
      "source": [
        "pclass_groups = titanic_df.groupby(\"Pclass\")\n",
        "for group in list(pclass_groups.groups.keys()):\n",
        "    print(f\"Pclass {group} : Avg Age {pclass_groups.get_group(group)['Age'].mean()} and total missing value {pclass_groups.get_group(group)['Age'].isna().sum()}\")"
      ]
    },
    {
      "cell_type": "markdown",
      "metadata": {
        "id": "CGBHGvCMOctq"
      },
      "source": [
        "### `Q-2:` Using `groupby` make groups using the `\"Pclass\"` column and fill every group's `\"Embarked\"` column's missing values with the mode value of that group. After that, print every group's `\"Embarked\"` column's value counts in ascending order."
      ]
    },
    {
      "cell_type": "code",
      "execution_count": 8,
      "metadata": {
        "id": "eOMciiM_OfPU"
      },
      "outputs": [
        {
          "name": "stdout",
          "output_type": "stream",
          "text": [
            "Embarked\n",
            "Q      2\n",
            "C     85\n",
            "S    127\n",
            "Name: count, dtype: int64\n",
            "Embarked\n",
            "Q      3\n",
            "C     17\n",
            "S    164\n",
            "Name: count, dtype: int64\n",
            "Embarked\n",
            "C     66\n",
            "Q     72\n",
            "S    353\n",
            "Name: count, dtype: int64\n"
          ]
        }
      ],
      "source": [
        "# code here\n",
        "for group in list(pclass_groups.groups.keys()):\n",
        "    mode = pclass_groups.get_group(group)[\"Embarked\"].mode()\n",
        "    pclass_groups.get_group(group)[\"Embarked\"].fillna(mode)\n",
        "    print(pclass_groups.get_group(group)[\"Embarked\"].value_counts(ascending = True))"
      ]
    },
    {
      "cell_type": "markdown",
      "metadata": {
        "id": "3B4ieUtTOg2E"
      },
      "source": [
        "### `Q-3:` Make groups based on `\"Embarked\"` column. And for each of this embarked group, make another group based on `\"Pclass\"` and find out the average fare (round off up to 2 decimal places) for each \"Pclass\" for each group of \"Embarked\".\n",
        "\n",
        "**Sample Output:**\n",
        "\n",
        "```bash\n",
        "{'C': {1: 105, 2: 25, 3: 11},\n",
        " 'Q': {1: 90, 2: 12, 3: 11},\n",
        " 'S': {1: 70, 2: 20, 3: 15}}\n",
        "```"
      ]
    },
    {
      "cell_type": "code",
      "execution_count": 9,
      "metadata": {
        "id": "rQvGcpCLOjEk"
      },
      "outputs": [
        {
          "data": {
            "text/plain": [
              "{'C': {1: 104.72, 2: 25.36, 3: 11.21},\n",
              " 'Q': {1: 90.0, 2: 12.35, 3: 11.18},\n",
              " 'S': {1: 70.36, 2: 20.33, 3: 14.64}}"
            ]
          },
          "execution_count": 9,
          "metadata": {},
          "output_type": "execute_result"
        }
      ],
      "source": [
        "# code here\n",
        "my_dict = {}\n",
        "\n",
        "embarked_groups = titanic_df.groupby(\"Embarked\")\n",
        "for embarked_group in list(embarked_groups.groups.keys()):\n",
        "    pclass_groups = embarked_groups.get_group(embarked_group).groupby(\"Pclass\")\n",
        "    my_dict[embarked_group] = {}\n",
        "    for pclass_group in list(pclass_groups.groups.keys()):\n",
        "        my_dict[embarked_group][pclass_group] = round(pclass_groups.get_group(pclass_group)[\"Fare\"].mean(), 2)\n",
        "my_dict"
      ]
    },
    {
      "cell_type": "markdown",
      "metadata": {
        "id": "iS6vHZUIOnJy"
      },
      "source": [
        "## **Questions Based on Fifa Worldcup - 2022 Dataset:**\n",
        "\n",
        "You can read the dataset by using the below sample code\n",
        "\n",
        "```python\n",
        "import pandas as pd\n",
        "\n",
        "fifa_df = pd.read_csv(\"https://docs.google.com/spreadsheets/d/e/2PACX-1vT3D_x_4DS6d51LKJ7ze1sxT5WpV5uiSVOFYHLwBiGru6vFyVv5h5-83AwFjxWYiWfCDjDAaarHAV-k/pub?gid=0&single=true&output=csv\")\n",
        "```"
      ]
    },
    {
      "cell_type": "markdown",
      "metadata": {
        "id": "3GPZOvh5Oqhp"
      },
      "source": [
        "### `Q-4:` Perform `groupby` based on the `\"Team\"` column and then perform Z Normalization on top of the below columns of each group:\n",
        "1. Passes\n",
        "2. Passes Completed\n",
        "3. Attempted Line Breaks\n",
        "4. Completed Line Breaks\n",
        "\n",
        "You have to make a python function named `z_normalization` which takes two arguments:\n",
        "\n",
        "1. *group:* Every group that you have created\n",
        "2. *cols_to_perform:* This parameter takes a list of columns on which you have to perform the Z-Normalization.\n",
        "\n",
        "For this problem, you have to use th `apply()` method.\n",
        "\n",
        "$\\Large Z \\ - \\ Normalization = \\frac{X_i - \\mu}{std} $\n",
        "\n",
        "After that find out the below values for each group:\n",
        "- minimum \"Passess\"\n",
        "- maximum \"Passess\"\n",
        "- minimum \"Yellow Cards\"\n",
        "- maximum \"Yellow cards\"\n",
        "- average \"Yellow Cards\"\n",
        "- maximum \"Attempted Line Breaks\"\n",
        "- minimum \"Attempted Line Breaks\"\n",
        "- standardard deviation of \"Attempted Line Breaks\"\n",
        "- average Possession"
      ]
    },
    {
      "cell_type": "code",
      "execution_count": 23,
      "metadata": {},
      "outputs": [],
      "source": [
        "import pandas as pd\n",
        "\n",
        "fifa_df = pd.read_csv(\"https://docs.google.com/spreadsheets/d/e/2PACX-1vT3D_x_4DS6d51LKJ7ze1sxT5WpV5uiSVOFYHLwBiGru6vFyVv5h5-83AwFjxWYiWfCDjDAaarHAV-k/pub?gid=0&single=true&output=csv\")"
      ]
    },
    {
      "cell_type": "code",
      "execution_count": 25,
      "metadata": {
        "id": "OuGLcl3EOnxY"
      },
      "outputs": [
        {
          "ename": "ValueError",
          "evalue": "'Team' is both an index level and a column label, which is ambiguous.",
          "output_type": "error",
          "traceback": [
            "\u001b[1;31m---------------------------------------------------------------------------\u001b[0m",
            "\u001b[1;31mValueError\u001b[0m                                Traceback (most recent call last)",
            "\u001b[1;32m~\\AppData\\Local\\Temp\\ipykernel_13088\\2530854948.py\u001b[0m in \u001b[0;36m?\u001b[1;34m()\u001b[0m\n\u001b[0;32m      7\u001b[0m \u001b[1;33m\u001b[0m\u001b[0m\n\u001b[0;32m      8\u001b[0m \u001b[1;33m\u001b[0m\u001b[0m\n\u001b[0;32m      9\u001b[0m \u001b[0mcols_to_perform\u001b[0m \u001b[1;33m=\u001b[0m \u001b[1;33m[\u001b[0m\u001b[1;34m\"Passes\"\u001b[0m\u001b[1;33m,\u001b[0m \u001b[1;34m\"Passes Completed\"\u001b[0m\u001b[1;33m,\u001b[0m \u001b[1;34m\"Attempted Line Breaks\"\u001b[0m\u001b[1;33m,\u001b[0m \u001b[1;34m\"Completed Line Breaks\"\u001b[0m\u001b[1;33m]\u001b[0m\u001b[1;33m\u001b[0m\u001b[1;33m\u001b[0m\u001b[0m\n\u001b[0;32m     10\u001b[0m \u001b[0mgroups\u001b[0m \u001b[1;33m=\u001b[0m \u001b[0mfifa_df\u001b[0m\u001b[1;33m.\u001b[0m\u001b[0mgroupby\u001b[0m\u001b[1;33m(\u001b[0m\u001b[1;34m\"Team\"\u001b[0m\u001b[1;33m)\u001b[0m\u001b[1;33m\u001b[0m\u001b[1;33m\u001b[0m\u001b[0m\n\u001b[1;32m---> 11\u001b[1;33m \u001b[0mgroups\u001b[0m \u001b[1;33m=\u001b[0m \u001b[0mgroups\u001b[0m\u001b[1;33m.\u001b[0m\u001b[0mapply\u001b[0m\u001b[1;33m(\u001b[0m\u001b[0mz_normalization\u001b[0m\u001b[1;33m,\u001b[0m \u001b[0mcols_to_perform\u001b[0m \u001b[1;33m=\u001b[0m \u001b[0mcols_to_perform\u001b[0m\u001b[1;33m)\u001b[0m\u001b[1;33m.\u001b[0m\u001b[0mgroupby\u001b[0m\u001b[1;33m(\u001b[0m\u001b[1;34m\"Team\"\u001b[0m\u001b[1;33m)\u001b[0m\u001b[1;33m\u001b[0m\u001b[1;33m\u001b[0m\u001b[0m\n\u001b[0m\u001b[0;32m     12\u001b[0m groups.agg(\n\u001b[0;32m     13\u001b[0m {\n\u001b[0;32m     14\u001b[0m     \u001b[1;34m\"Passes\"\u001b[0m\u001b[1;33m:\u001b[0m \u001b[1;33m[\u001b[0m\u001b[1;34m\"min\"\u001b[0m\u001b[1;33m,\u001b[0m \u001b[1;34m\"max\"\u001b[0m\u001b[1;33m]\u001b[0m\u001b[1;33m,\u001b[0m\u001b[1;33m\u001b[0m\u001b[1;33m\u001b[0m\u001b[0m\n",
            "\u001b[1;32mc:\\Users\\One\\anaconda3\\Lib\\site-packages\\pandas\\core\\frame.py\u001b[0m in \u001b[0;36m?\u001b[1;34m(self, by, axis, level, as_index, sort, group_keys, observed, dropna)\u001b[0m\n\u001b[0;32m   8865\u001b[0m \u001b[1;33m\u001b[0m\u001b[0m\n\u001b[0;32m   8866\u001b[0m         \u001b[1;32mif\u001b[0m \u001b[0mlevel\u001b[0m \u001b[1;32mis\u001b[0m \u001b[1;32mNone\u001b[0m \u001b[1;32mand\u001b[0m \u001b[0mby\u001b[0m \u001b[1;32mis\u001b[0m \u001b[1;32mNone\u001b[0m\u001b[1;33m:\u001b[0m\u001b[1;33m\u001b[0m\u001b[1;33m\u001b[0m\u001b[0m\n\u001b[0;32m   8867\u001b[0m             \u001b[1;32mraise\u001b[0m \u001b[0mTypeError\u001b[0m\u001b[1;33m(\u001b[0m\u001b[1;34m\"You have to supply one of 'by' and 'level'\"\u001b[0m\u001b[1;33m)\u001b[0m\u001b[1;33m\u001b[0m\u001b[1;33m\u001b[0m\u001b[0m\n\u001b[0;32m   8868\u001b[0m \u001b[1;33m\u001b[0m\u001b[0m\n\u001b[1;32m-> 8869\u001b[1;33m         return DataFrameGroupBy(\n\u001b[0m\u001b[0;32m   8870\u001b[0m             \u001b[0mobj\u001b[0m\u001b[1;33m=\u001b[0m\u001b[0mself\u001b[0m\u001b[1;33m,\u001b[0m\u001b[1;33m\u001b[0m\u001b[1;33m\u001b[0m\u001b[0m\n\u001b[0;32m   8871\u001b[0m             \u001b[0mkeys\u001b[0m\u001b[1;33m=\u001b[0m\u001b[0mby\u001b[0m\u001b[1;33m,\u001b[0m\u001b[1;33m\u001b[0m\u001b[1;33m\u001b[0m\u001b[0m\n\u001b[0;32m   8872\u001b[0m             \u001b[0maxis\u001b[0m\u001b[1;33m=\u001b[0m\u001b[0maxis\u001b[0m\u001b[1;33m,\u001b[0m\u001b[1;33m\u001b[0m\u001b[1;33m\u001b[0m\u001b[0m\n",
            "\u001b[1;32mc:\\Users\\One\\anaconda3\\Lib\\site-packages\\pandas\\core\\groupby\\groupby.py\u001b[0m in \u001b[0;36m?\u001b[1;34m(self, obj, keys, axis, level, grouper, exclusions, selection, as_index, sort, group_keys, observed, dropna)\u001b[0m\n\u001b[0;32m   1274\u001b[0m         \u001b[0mself\u001b[0m\u001b[1;33m.\u001b[0m\u001b[0mgroup_keys\u001b[0m \u001b[1;33m=\u001b[0m \u001b[0mgroup_keys\u001b[0m\u001b[1;33m\u001b[0m\u001b[1;33m\u001b[0m\u001b[0m\n\u001b[0;32m   1275\u001b[0m         \u001b[0mself\u001b[0m\u001b[1;33m.\u001b[0m\u001b[0mdropna\u001b[0m \u001b[1;33m=\u001b[0m \u001b[0mdropna\u001b[0m\u001b[1;33m\u001b[0m\u001b[1;33m\u001b[0m\u001b[0m\n\u001b[0;32m   1276\u001b[0m \u001b[1;33m\u001b[0m\u001b[0m\n\u001b[0;32m   1277\u001b[0m         \u001b[1;32mif\u001b[0m \u001b[0mgrouper\u001b[0m \u001b[1;32mis\u001b[0m \u001b[1;32mNone\u001b[0m\u001b[1;33m:\u001b[0m\u001b[1;33m\u001b[0m\u001b[1;33m\u001b[0m\u001b[0m\n\u001b[1;32m-> 1278\u001b[1;33m             grouper, exclusions, obj = get_grouper(\n\u001b[0m\u001b[0;32m   1279\u001b[0m                 \u001b[0mobj\u001b[0m\u001b[1;33m,\u001b[0m\u001b[1;33m\u001b[0m\u001b[1;33m\u001b[0m\u001b[0m\n\u001b[0;32m   1280\u001b[0m                 \u001b[0mkeys\u001b[0m\u001b[1;33m,\u001b[0m\u001b[1;33m\u001b[0m\u001b[1;33m\u001b[0m\u001b[0m\n\u001b[0;32m   1281\u001b[0m                 \u001b[0maxis\u001b[0m\u001b[1;33m=\u001b[0m\u001b[0maxis\u001b[0m\u001b[1;33m,\u001b[0m\u001b[1;33m\u001b[0m\u001b[1;33m\u001b[0m\u001b[0m\n",
            "\u001b[1;32mc:\\Users\\One\\anaconda3\\Lib\\site-packages\\pandas\\core\\groupby\\grouper.py\u001b[0m in \u001b[0;36m?\u001b[1;34m(obj, key, axis, level, sort, observed, validate, dropna)\u001b[0m\n\u001b[0;32m    995\u001b[0m \u001b[1;33m\u001b[0m\u001b[0m\n\u001b[0;32m    996\u001b[0m         \u001b[1;32melif\u001b[0m \u001b[0mis_in_axis\u001b[0m\u001b[1;33m(\u001b[0m\u001b[0mgpr\u001b[0m\u001b[1;33m)\u001b[0m\u001b[1;33m:\u001b[0m  \u001b[1;31m# df.groupby('name')\u001b[0m\u001b[1;33m\u001b[0m\u001b[1;33m\u001b[0m\u001b[0m\n\u001b[0;32m    997\u001b[0m             \u001b[1;32mif\u001b[0m \u001b[0mobj\u001b[0m\u001b[1;33m.\u001b[0m\u001b[0mndim\u001b[0m \u001b[1;33m!=\u001b[0m \u001b[1;36m1\u001b[0m \u001b[1;32mand\u001b[0m \u001b[0mgpr\u001b[0m \u001b[1;32min\u001b[0m \u001b[0mobj\u001b[0m\u001b[1;33m:\u001b[0m\u001b[1;33m\u001b[0m\u001b[1;33m\u001b[0m\u001b[0m\n\u001b[0;32m    998\u001b[0m                 \u001b[1;32mif\u001b[0m \u001b[0mvalidate\u001b[0m\u001b[1;33m:\u001b[0m\u001b[1;33m\u001b[0m\u001b[1;33m\u001b[0m\u001b[0m\n\u001b[1;32m--> 999\u001b[1;33m                     \u001b[0mobj\u001b[0m\u001b[1;33m.\u001b[0m\u001b[0m_check_label_or_level_ambiguity\u001b[0m\u001b[1;33m(\u001b[0m\u001b[0mgpr\u001b[0m\u001b[1;33m,\u001b[0m \u001b[0maxis\u001b[0m\u001b[1;33m=\u001b[0m\u001b[0maxis\u001b[0m\u001b[1;33m)\u001b[0m\u001b[1;33m\u001b[0m\u001b[1;33m\u001b[0m\u001b[0m\n\u001b[0m\u001b[0;32m   1000\u001b[0m                 \u001b[0min_axis\u001b[0m\u001b[1;33m,\u001b[0m \u001b[0mname\u001b[0m\u001b[1;33m,\u001b[0m \u001b[0mgpr\u001b[0m \u001b[1;33m=\u001b[0m \u001b[1;32mTrue\u001b[0m\u001b[1;33m,\u001b[0m \u001b[0mgpr\u001b[0m\u001b[1;33m,\u001b[0m \u001b[0mobj\u001b[0m\u001b[1;33m[\u001b[0m\u001b[0mgpr\u001b[0m\u001b[1;33m]\u001b[0m\u001b[1;33m\u001b[0m\u001b[1;33m\u001b[0m\u001b[0m\n\u001b[0;32m   1001\u001b[0m                 \u001b[1;32mif\u001b[0m \u001b[0mgpr\u001b[0m\u001b[1;33m.\u001b[0m\u001b[0mndim\u001b[0m \u001b[1;33m!=\u001b[0m \u001b[1;36m1\u001b[0m\u001b[1;33m:\u001b[0m\u001b[1;33m\u001b[0m\u001b[1;33m\u001b[0m\u001b[0m\n\u001b[0;32m   1002\u001b[0m                     \u001b[1;31m# non-unique columns; raise here to get the name in the\u001b[0m\u001b[1;33m\u001b[0m\u001b[1;33m\u001b[0m\u001b[0m\n",
            "\u001b[1;32mc:\\Users\\One\\anaconda3\\Lib\\site-packages\\pandas\\core\\generic.py\u001b[0m in \u001b[0;36m?\u001b[1;34m(self, key, axis)\u001b[0m\n\u001b[0;32m   1797\u001b[0m             msg = (\n\u001b[0;32m   1798\u001b[0m                 \u001b[1;34mf\"'{key}' is both {level_article} {level_type} level and \"\u001b[0m\u001b[1;33m\u001b[0m\u001b[1;33m\u001b[0m\u001b[0m\n\u001b[0;32m   1799\u001b[0m                 \u001b[1;34mf\"{label_article} {label_type} label, which is ambiguous.\"\u001b[0m\u001b[1;33m\u001b[0m\u001b[1;33m\u001b[0m\u001b[0m\n\u001b[0;32m   1800\u001b[0m             )\n\u001b[1;32m-> 1801\u001b[1;33m             \u001b[1;32mraise\u001b[0m \u001b[0mValueError\u001b[0m\u001b[1;33m(\u001b[0m\u001b[0mmsg\u001b[0m\u001b[1;33m)\u001b[0m\u001b[1;33m\u001b[0m\u001b[1;33m\u001b[0m\u001b[0m\n\u001b[0m",
            "\u001b[1;31mValueError\u001b[0m: 'Team' is both an index level and a column label, which is ambiguous."
          ]
        }
      ],
      "source": [
        "def z_normalization(group, cols_to_perform):\n",
        "    for col in cols_to_perform:\n",
        "        std = group[col].std()\n",
        "        mean = group[col].mean()\n",
        "        group[f\"{col}_z_norm\"] = (group[col] - mean)/std\n",
        "    return group\n",
        "\n",
        "\n",
        "cols_to_perform = [\"Passes\", \"Passes Completed\", \"Attempted Line Breaks\", \"Completed Line Breaks\"]\n",
        "groups = fifa_df.groupby(\"Team\")\n",
        "groups = groups.apply(z_normalization, cols_to_perform = cols_to_perform).groupby(\"Team\")\n",
        "groups.agg(\n",
        "{\n",
        "    \"Passes\": [\"min\", \"max\"],\n",
        "    \"Yellow Cards\": [\"min\", \"max\", \"mean\"],\n",
        "    \"Attempted Line Breaks\": [\"max\", \"min\", \"std\"],\n",
        "    \"Possession (%)\": \"mean\"\n",
        "})"
      ]
    },
    {
      "cell_type": "markdown",
      "metadata": {
        "id": "RPjqA-OtOxDD"
      },
      "source": [
        "## **Questions on IPL wala dataset**\n",
        "\n",
        "ball by ball dataset - https://drive.google.com/file/d/1-kvv_9KCSAFWcrhS9WgTxSrURkRh6GNt/view?usp=share_link\n",
        "\n",
        "\n",
        "\n"
      ]
    },
    {
      "cell_type": "markdown",
      "metadata": {
        "id": "IeQpV8A2O0IR"
      },
      "source": [
        "###`Q-5:` Find batsman in below category-\n",
        "* Highest score while chasing\n",
        "* Best Strike rate while chasing and have faced 100+ balls\n",
        "\n",
        "\n",
        "> Chasing mean team batting in second inning"
      ]
    },
    {
      "cell_type": "code",
      "execution_count": 26,
      "metadata": {
        "id": "nwa-adpMOxl4"
      },
      "outputs": [],
      "source": [
        "# code here\n",
        "balls = pd.read_csv(\"D:\\\\Coding journey 2024\\\\datascience\\\\panda\\\\task_Datasets\\\\csv\\\\ipl_deliveries - ipl_deliveries.csv\")"
      ]
    },
    {
      "cell_type": "code",
      "execution_count": 33,
      "metadata": {},
      "outputs": [
        {
          "data": {
            "text/plain": [
              "ID       batter       \n",
              "501206   PC Valthaty      120\n",
              "501243   V Sehwag         119\n",
              "1254061  SV Samson        119\n",
              "1136620  SR Watson        117\n",
              "336018   ST Jayasuriya    114\n",
              "Name: batsman_run, dtype: int64"
            ]
          },
          "execution_count": 33,
          "metadata": {},
          "output_type": "execute_result"
        }
      ],
      "source": [
        "df = balls[balls.innings==2]\n",
        "\n",
        "df.groupby(['ID','batter']).sum().sort_values(by = \"batsman_run\", ascending = False)['batsman_run'].head()"
      ]
    },
    {
      "cell_type": "code",
      "execution_count": 36,
      "metadata": {},
      "outputs": [
        {
          "data": {
            "text/html": [
              "<div>\n",
              "<style scoped>\n",
              "    .dataframe tbody tr th:only-of-type {\n",
              "        vertical-align: middle;\n",
              "    }\n",
              "\n",
              "    .dataframe tbody tr th {\n",
              "        vertical-align: top;\n",
              "    }\n",
              "\n",
              "    .dataframe thead th {\n",
              "        text-align: right;\n",
              "    }\n",
              "</style>\n",
              "<table border=\"1\" class=\"dataframe\">\n",
              "  <thead>\n",
              "    <tr style=\"text-align: right;\">\n",
              "      <th></th>\n",
              "      <th>batter</th>\n",
              "      <th>batsman_run</th>\n",
              "      <th>ballnumber</th>\n",
              "      <th>strike_rate</th>\n",
              "    </tr>\n",
              "  </thead>\n",
              "  <tbody>\n",
              "    <tr>\n",
              "      <th>0</th>\n",
              "      <td>PJ Cummins</td>\n",
              "      <td>222</td>\n",
              "      <td>114</td>\n",
              "      <td>194.736842</td>\n",
              "    </tr>\n",
              "    <tr>\n",
              "      <th>1</th>\n",
              "      <td>AD Russell</td>\n",
              "      <td>986</td>\n",
              "      <td>570</td>\n",
              "      <td>172.982456</td>\n",
              "    </tr>\n",
              "    <tr>\n",
              "      <th>2</th>\n",
              "      <td>LS Livingstone</td>\n",
              "      <td>182</td>\n",
              "      <td>107</td>\n",
              "      <td>170.093458</td>\n",
              "    </tr>\n",
              "    <tr>\n",
              "      <th>3</th>\n",
              "      <td>SP Narine</td>\n",
              "      <td>599</td>\n",
              "      <td>356</td>\n",
              "      <td>168.258427</td>\n",
              "    </tr>\n",
              "    <tr>\n",
              "      <th>4</th>\n",
              "      <td>SO Hetmyer</td>\n",
              "      <td>330</td>\n",
              "      <td>200</td>\n",
              "      <td>165.000000</td>\n",
              "    </tr>\n",
              "  </tbody>\n",
              "</table>\n",
              "</div>"
            ],
            "text/plain": [
              "           batter  batsman_run  ballnumber  strike_rate\n",
              "0      PJ Cummins          222         114   194.736842\n",
              "1      AD Russell          986         570   172.982456\n",
              "2  LS Livingstone          182         107   170.093458\n",
              "3       SP Narine          599         356   168.258427\n",
              "4      SO Hetmyer          330         200   165.000000"
            ]
          },
          "execution_count": 36,
          "metadata": {},
          "output_type": "execute_result"
        }
      ],
      "source": [
        "# code here\n",
        "temp_df = df[~(df.extra_type == \"wides\")]\n",
        "temp_df = temp_df.groupby(\"batter\").agg(\n",
        "{\n",
        "    \"batsman_run\": \"sum\",\n",
        "    \"ballnumber\": \"count\"\n",
        "})\n",
        "temp_df[\"strike_rate\"] = temp_df[\"batsman_run\"] / temp_df[\"ballnumber\"] * 100\n",
        "temp_df[temp_df[\"ballnumber\"] >= 100].sort_values(\"strike_rate\", ascending = False).reset_index().head()"
      ]
    },
    {
      "cell_type": "markdown",
      "metadata": {
        "id": "Wr443WT0O2Qw"
      },
      "source": [
        "###`Q-6` Most Successful bowler against any batsman. Find that pair of bowler and batsman.\n",
        "> Most Successful in terms of dissmissal. A bowler who have dissmissed any batsman most no of times. If any two pairs have same no of dissmisal, consider runs conceded by bowler to that batsman. Those who have concede lesser runs is more successful."
      ]
    },
    {
      "cell_type": "code",
      "execution_count": 38,
      "metadata": {
        "id": "oG1P4PT8O4u4"
      },
      "outputs": [
        {
          "data": {
            "text/html": [
              "<div>\n",
              "<style scoped>\n",
              "    .dataframe tbody tr th:only-of-type {\n",
              "        vertical-align: middle;\n",
              "    }\n",
              "\n",
              "    .dataframe tbody tr th {\n",
              "        vertical-align: top;\n",
              "    }\n",
              "\n",
              "    .dataframe thead th {\n",
              "        text-align: right;\n",
              "    }\n",
              "</style>\n",
              "<table border=\"1\" class=\"dataframe\">\n",
              "  <thead>\n",
              "    <tr style=\"text-align: right;\">\n",
              "      <th></th>\n",
              "      <th></th>\n",
              "      <th>IsBatterOut</th>\n",
              "      <th>batsman_run</th>\n",
              "    </tr>\n",
              "    <tr>\n",
              "      <th>bowler</th>\n",
              "      <th>batter</th>\n",
              "      <th></th>\n",
              "      <th></th>\n",
              "    </tr>\n",
              "  </thead>\n",
              "  <tbody>\n",
              "    <tr>\n",
              "      <th>Z Khan</th>\n",
              "      <th>MS Dhoni</th>\n",
              "      <td>7</td>\n",
              "      <td>74</td>\n",
              "    </tr>\n",
              "    <tr>\n",
              "      <th>Sandeep Sharma</th>\n",
              "      <th>V Kohli</th>\n",
              "      <td>7</td>\n",
              "      <td>78</td>\n",
              "    </tr>\n",
              "    <tr>\n",
              "      <th>A Mishra</th>\n",
              "      <th>RG Sharma</th>\n",
              "      <td>7</td>\n",
              "      <td>87</td>\n",
              "    </tr>\n",
              "    <tr>\n",
              "      <th>R Ashwin</th>\n",
              "      <th>RV Uthappa</th>\n",
              "      <td>7</td>\n",
              "      <td>123</td>\n",
              "    </tr>\n",
              "    <tr>\n",
              "      <th>SP Narine</th>\n",
              "      <th>RG Sharma</th>\n",
              "      <td>7</td>\n",
              "      <td>137</td>\n",
              "    </tr>\n",
              "  </tbody>\n",
              "</table>\n",
              "</div>"
            ],
            "text/plain": [
              "                           IsBatterOut  batsman_run\n",
              "bowler         batter                              \n",
              "Z Khan         MS Dhoni              7           74\n",
              "Sandeep Sharma V Kohli               7           78\n",
              "A Mishra       RG Sharma             7           87\n",
              "R Ashwin       RV Uthappa            7          123\n",
              "SP Narine      RG Sharma             7          137"
            ]
          },
          "execution_count": 38,
          "metadata": {},
          "output_type": "execute_result"
        }
      ],
      "source": [
        "# code here\n",
        "balls[\"IsBatterOut\"] = balls.batter == balls.player_out\n",
        "balls.groupby([\"bowler\", \"batter\"]).agg({\n",
        "    \"IsBatterOut\": \"sum\",\n",
        "    \"batsman_run\": \"sum\"\n",
        "}).sort_values(by=[\"IsBatterOut\", \"batsman_run\"], ascending = [False, True]).head()"
      ]
    },
    {
      "cell_type": "markdown",
      "metadata": {
        "id": "7BP2EDkNO6KM"
      },
      "source": [
        "###`Q-7`: Most successful batting pair in IPL. Batting pair who have scored most runs playing together.\n"
      ]
    },
    {
      "cell_type": "code",
      "execution_count": 39,
      "metadata": {
        "id": "lRlbTuarO80s"
      },
      "outputs": [
        {
          "data": {
            "text/plain": [
              "batter-pair\n",
              "AB de Villiers-V Kohli    3134\n",
              "CH Gayle-V Kohli          2802\n",
              "DA Warner-S Dhawan        2357\n",
              "G Gambhir-RV Uthappa      1906\n",
              "KL Rahul-MA Agarwal       1731\n",
              "Name: total_run, dtype: int64"
            ]
          },
          "execution_count": 39,
          "metadata": {},
          "output_type": "execute_result"
        }
      ],
      "source": [
        "# code here\n",
        "# code here\n",
        "def func(x):\n",
        "    return '-'.join(list(np.sort(x.values)))\n",
        "balls[\"batter-pair\"] = balls[[\"batter\", \"non-striker\"]].apply(func, axis = 1)\n",
        "balls.groupby(\"batter-pair\")[\"total_run\"].sum().sort_values(ascending = False).head()"
      ]
    },
    {
      "cell_type": "markdown",
      "metadata": {
        "id": "gVJ2CnAxO-b0"
      },
      "source": [
        "###`Q-8:` Make a dataframe for all batting pairs played together.\n",
        "```\n",
        "Batsman1 Batsman2 Runs Avg StrikeRate\n",
        "```\n",
        "\n",
        "> Just to ease this question you can count wide-balls for strike rate."
      ]
    },
    {
      "cell_type": "code",
      "execution_count": 40,
      "metadata": {
        "id": "S0bgMx_dPA9Y"
      },
      "outputs": [
        {
          "data": {
            "text/html": [
              "<div>\n",
              "<style scoped>\n",
              "    .dataframe tbody tr th:only-of-type {\n",
              "        vertical-align: middle;\n",
              "    }\n",
              "\n",
              "    .dataframe tbody tr th {\n",
              "        vertical-align: top;\n",
              "    }\n",
              "\n",
              "    .dataframe thead th {\n",
              "        text-align: right;\n",
              "    }\n",
              "</style>\n",
              "<table border=\"1\" class=\"dataframe\">\n",
              "  <thead>\n",
              "    <tr style=\"text-align: right;\">\n",
              "      <th></th>\n",
              "      <th>Batsman 1</th>\n",
              "      <th>Batsman 2</th>\n",
              "      <th>Runs</th>\n",
              "      <th>Avg</th>\n",
              "      <th>StrikeRate</th>\n",
              "    </tr>\n",
              "  </thead>\n",
              "  <tbody>\n",
              "    <tr>\n",
              "      <th>302</th>\n",
              "      <td>AB de Villiers</td>\n",
              "      <td>V Kohli</td>\n",
              "      <td>3134</td>\n",
              "      <td>44.140845</td>\n",
              "      <td>152.209811</td>\n",
              "    </tr>\n",
              "    <tr>\n",
              "      <th>1251</th>\n",
              "      <td>CH Gayle</td>\n",
              "      <td>V Kohli</td>\n",
              "      <td>2802</td>\n",
              "      <td>52.867925</td>\n",
              "      <td>142.017233</td>\n",
              "    </tr>\n",
              "    <tr>\n",
              "      <th>1508</th>\n",
              "      <td>DA Warner</td>\n",
              "      <td>S Dhawan</td>\n",
              "      <td>2357</td>\n",
              "      <td>48.102041</td>\n",
              "      <td>136.637681</td>\n",
              "    </tr>\n",
              "    <tr>\n",
              "      <th>1954</th>\n",
              "      <td>G Gambhir</td>\n",
              "      <td>RV Uthappa</td>\n",
              "      <td>1906</td>\n",
              "      <td>39.708333</td>\n",
              "      <td>133.754386</td>\n",
              "    </tr>\n",
              "    <tr>\n",
              "      <th>2803</th>\n",
              "      <td>KL Rahul</td>\n",
              "      <td>MA Agarwal</td>\n",
              "      <td>1731</td>\n",
              "      <td>52.454545</td>\n",
              "      <td>142.939719</td>\n",
              "    </tr>\n",
              "    <tr>\n",
              "      <th>...</th>\n",
              "      <td>...</td>\n",
              "      <td>...</td>\n",
              "      <td>...</td>\n",
              "      <td>...</td>\n",
              "      <td>...</td>\n",
              "    </tr>\n",
              "    <tr>\n",
              "      <th>350</th>\n",
              "      <td>AD Mascarenhas</td>\n",
              "      <td>Gurkeerat Singh</td>\n",
              "      <td>0</td>\n",
              "      <td>0.000000</td>\n",
              "      <td>0.000000</td>\n",
              "    </tr>\n",
              "    <tr>\n",
              "      <th>3552</th>\n",
              "      <td>NLTC Perera</td>\n",
              "      <td>RV Gomez</td>\n",
              "      <td>0</td>\n",
              "      <td>0.000000</td>\n",
              "      <td>0.000000</td>\n",
              "    </tr>\n",
              "    <tr>\n",
              "      <th>2270</th>\n",
              "      <td>Iqbal Abdulla</td>\n",
              "      <td>TS Mills</td>\n",
              "      <td>0</td>\n",
              "      <td>0.000000</td>\n",
              "      <td>0.000000</td>\n",
              "    </tr>\n",
              "    <tr>\n",
              "      <th>3556</th>\n",
              "      <td>NM Coulter</td>\n",
              "      <td>Nile</td>\n",
              "      <td>0</td>\n",
              "      <td>0.000000</td>\n",
              "      <td>0.000000</td>\n",
              "    </tr>\n",
              "    <tr>\n",
              "      <th>2928</th>\n",
              "      <td>Kartik Tyagi</td>\n",
              "      <td>Shashank Singh</td>\n",
              "      <td>0</td>\n",
              "      <td>0.000000</td>\n",
              "      <td>0.000000</td>\n",
              "    </tr>\n",
              "  </tbody>\n",
              "</table>\n",
              "<p>4259 rows × 5 columns</p>\n",
              "</div>"
            ],
            "text/plain": [
              "           Batsman 1        Batsman 2  Runs        Avg  StrikeRate\n",
              "302   AB de Villiers          V Kohli  3134  44.140845  152.209811\n",
              "1251        CH Gayle          V Kohli  2802  52.867925  142.017233\n",
              "1508       DA Warner         S Dhawan  2357  48.102041  136.637681\n",
              "1954       G Gambhir       RV Uthappa  1906  39.708333  133.754386\n",
              "2803        KL Rahul       MA Agarwal  1731  52.454545  142.939719\n",
              "...              ...              ...   ...        ...         ...\n",
              "350   AD Mascarenhas  Gurkeerat Singh     0   0.000000    0.000000\n",
              "3552     NLTC Perera         RV Gomez     0   0.000000    0.000000\n",
              "2270   Iqbal Abdulla         TS Mills     0   0.000000    0.000000\n",
              "3556      NM Coulter             Nile     0   0.000000    0.000000\n",
              "2928    Kartik Tyagi   Shashank Singh     0   0.000000    0.000000\n",
              "\n",
              "[4259 rows x 5 columns]"
            ]
          },
          "execution_count": 40,
          "metadata": {},
          "output_type": "execute_result"
        }
      ],
      "source": [
        "# code here\n",
        "temp_df = balls.groupby(\"batter-pair\").agg(\n",
        "{\n",
        "    \"total_run\": \"sum\",\n",
        "    \"ballnumber\": \"count\",\n",
        "    \"isWicketDelivery\": \"sum\"\n",
        "}).reset_index()\n",
        "temp_df[\"Batsman 1\"] = temp_df[\"batter-pair\"].apply(lambda x: x.split(\"-\")[0])\n",
        "temp_df[\"Batsman 2\"] = temp_df[\"batter-pair\"].apply(lambda x: x.split(\"-\")[1])\n",
        "temp_df.rename(columns = {\"total_run\": \"Runs\"}, inplace=True)\n",
        "temp_df[\"StrikeRate\"] = temp_df[\"Runs\"] / temp_df[\"ballnumber\"] * 100\n",
        "temp_df[\"Avg\"] = temp_df[\"Runs\"] / temp_df[\"isWicketDelivery\"]\n",
        "temp_df.sort_values(\"Runs\", ascending = False, inplace=  True)\n",
        "temp_df[[\"Batsman 1\", \"Batsman 2\", \"Runs\", \"Avg\", \"StrikeRate\"]]"
      ]
    }
  ],
  "metadata": {
    "colab": {
      "provenance": []
    },
    "kernelspec": {
      "display_name": "Python 3",
      "name": "python3"
    },
    "language_info": {
      "codemirror_mode": {
        "name": "ipython",
        "version": 3
      },
      "file_extension": ".py",
      "mimetype": "text/x-python",
      "name": "python",
      "nbconvert_exporter": "python",
      "pygments_lexer": "ipython3",
      "version": "3.11.7"
    }
  },
  "nbformat": 4,
  "nbformat_minor": 0
}
