{
  "cells": [
    {
      "cell_type": "code",
      "execution_count": 1,
      "metadata": {
        "id": "zxrbXftDYalU"
      },
      "outputs": [],
      "source": [
        "import pandas as pd"
      ]
    },
    {
      "cell_type": "markdown",
      "metadata": {
        "id": "MetYTZJpYfdz"
      },
      "source": [
        "###`Q-1:` Write a program to create an empty series."
      ]
    },
    {
      "cell_type": "code",
      "execution_count": 6,
      "metadata": {
        "id": "KUcgT935YgC5"
      },
      "outputs": [],
      "source": [
        "# code here\n",
        "df= pd.Series()"
      ]
    },
    {
      "cell_type": "markdown",
      "metadata": {
        "id": "jw5ybzU6YhOo"
      },
      "source": [
        "###`Q-2:` Write a Pandas program to add, subtract, multiple and divide two Pandas Series."
      ]
    },
    {
      "cell_type": "code",
      "execution_count": 11,
      "metadata": {
        "id": "EF3GgVFjYjwG"
      },
      "outputs": [
        {
          "data": {
            "text/plain": [
              "0    10.0\n",
              "1    10.0\n",
              "2    10.0\n",
              "3    10.0\n",
              "4    10.0\n",
              "dtype: float64"
            ]
          },
          "execution_count": 11,
          "metadata": {},
          "output_type": "execute_result"
        }
      ],
      "source": [
        "# code here\n",
        "a1 = pd.Series([1,2,3,4,5])\n",
        "\n",
        "a2 = pd.Series([10,20,30,40,50])\n",
        "\n",
        "a1+a2\n",
        "a1-a2\n",
        "a1*a2\n",
        "a2/a1"
      ]
    },
    {
      "cell_type": "markdown",
      "metadata": {
        "id": "TZDp25jeYlB6"
      },
      "source": [
        "###`Q-3` Write a Pandas program to compare the elements of the two Pandas Series.\n",
        "Sample Series: [2, 4, 6, 8, 10], [1, 3, 5, 7, 10]\n",
        "\n"
      ]
    },
    {
      "cell_type": "code",
      "execution_count": 13,
      "metadata": {
        "id": "gFNil8ruYp1y"
      },
      "outputs": [
        {
          "data": {
            "text/plain": [
              "0    False\n",
              "1    False\n",
              "2    False\n",
              "3    False\n",
              "4     True\n",
              "dtype: bool"
            ]
          },
          "execution_count": 13,
          "metadata": {},
          "output_type": "execute_result"
        }
      ],
      "source": [
        "# code here\n",
        "a3 = pd.Series([2,4,6,8,10])\n",
        "\n",
        "a4 = pd.Series([1,3,5,7,10])\n",
        "\n",
        "a3>a4\n",
        "a4<a3\n",
        "a4==a3"
      ]
    },
    {
      "cell_type": "markdown",
      "metadata": {
        "id": "HlOBn_N6YrZz"
      },
      "source": [
        "###`Q-5.`Write a function to change the data type of given a column or a Series. Function takes series and data type as input, returns the converted series.\n",
        "```\n",
        "series = pd.Series([1,2,'Python', 2.0, True, 100])\n",
        "change to float type data\n",
        "```\n",
        "Note: Read about pd.to_numeric()"
      ]
    },
    {
      "cell_type": "code",
      "execution_count": 15,
      "metadata": {
        "id": "_SWQJCUJYwXm"
      },
      "outputs": [
        {
          "data": {
            "text/plain": [
              "0      1.0\n",
              "1      2.0\n",
              "2      NaN\n",
              "3      2.0\n",
              "4      1.0\n",
              "5    100.0\n",
              "dtype: float64"
            ]
          },
          "execution_count": 15,
          "metadata": {},
          "output_type": "execute_result"
        }
      ],
      "source": [
        "# code here\n",
        "series = pd.Series([1,2,'Python', 2.0, True, 100])\n",
        "def change_dtype(series):\n",
        "    return pd.to_numeric(series, errors = 'coerce')\n",
        "\n",
        "series = pd.Series([1,2,'Python', 2.0, True, 100])\n",
        "change_dtype(series)"
      ]
    },
    {
      "cell_type": "markdown",
      "metadata": {
        "id": "PGp3OqRIY0Va"
      },
      "source": [
        "Download data - https://drive.google.com/file/d/1LRhXwbEodeWXtzPhJCX0X9Lf_BECzvqb/view?usp=share_link\n",
        "All Batsman runs series in IPL 2008 to 2022.\n",
        "\n",
        "Below questions are based on this data."
      ]
    },
    {
      "cell_type": "markdown",
      "metadata": {
        "id": "TxFkp-L4Y23d"
      },
      "source": [
        "###`Q-6` Find top 10 most run getter from the series."
      ]
    },
    {
      "cell_type": "code",
      "execution_count": 31,
      "metadata": {
        "id": "muBgocA6Y2Bg"
      },
      "outputs": [
        {
          "data": {
            "text/html": [
              "<div>\n",
              "<style scoped>\n",
              "    .dataframe tbody tr th:only-of-type {\n",
              "        vertical-align: middle;\n",
              "    }\n",
              "\n",
              "    .dataframe tbody tr th {\n",
              "        vertical-align: top;\n",
              "    }\n",
              "\n",
              "    .dataframe thead th {\n",
              "        text-align: right;\n",
              "    }\n",
              "</style>\n",
              "<table border=\"1\" class=\"dataframe\">\n",
              "  <thead>\n",
              "    <tr style=\"text-align: right;\">\n",
              "      <th></th>\n",
              "      <th>batter</th>\n",
              "      <th>batsman_run</th>\n",
              "    </tr>\n",
              "  </thead>\n",
              "  <tbody>\n",
              "    <tr>\n",
              "      <th>569</th>\n",
              "      <td>V Kohli</td>\n",
              "      <td>6634</td>\n",
              "    </tr>\n",
              "    <tr>\n",
              "      <th>462</th>\n",
              "      <td>S Dhawan</td>\n",
              "      <td>6244</td>\n",
              "    </tr>\n",
              "    <tr>\n",
              "      <th>130</th>\n",
              "      <td>DA Warner</td>\n",
              "      <td>5883</td>\n",
              "    </tr>\n",
              "    <tr>\n",
              "      <th>430</th>\n",
              "      <td>RG Sharma</td>\n",
              "      <td>5881</td>\n",
              "    </tr>\n",
              "    <tr>\n",
              "      <th>493</th>\n",
              "      <td>SK Raina</td>\n",
              "      <td>5536</td>\n",
              "    </tr>\n",
              "    <tr>\n",
              "      <th>27</th>\n",
              "      <td>AB de Villiers</td>\n",
              "      <td>5181</td>\n",
              "    </tr>\n",
              "    <tr>\n",
              "      <th>108</th>\n",
              "      <td>CH Gayle</td>\n",
              "      <td>4997</td>\n",
              "    </tr>\n",
              "    <tr>\n",
              "      <th>339</th>\n",
              "      <td>MS Dhoni</td>\n",
              "      <td>4978</td>\n",
              "    </tr>\n",
              "    <tr>\n",
              "      <th>452</th>\n",
              "      <td>RV Uthappa</td>\n",
              "      <td>4954</td>\n",
              "    </tr>\n",
              "    <tr>\n",
              "      <th>256</th>\n",
              "      <td>KD Karthik</td>\n",
              "      <td>4377</td>\n",
              "    </tr>\n",
              "  </tbody>\n",
              "</table>\n",
              "</div>"
            ],
            "text/plain": [
              "             batter  batsman_run\n",
              "569         V Kohli         6634\n",
              "462        S Dhawan         6244\n",
              "130       DA Warner         5883\n",
              "430       RG Sharma         5881\n",
              "493        SK Raina         5536\n",
              "27   AB de Villiers         5181\n",
              "108        CH Gayle         4997\n",
              "339        MS Dhoni         4978\n",
              "452      RV Uthappa         4954\n",
              "256      KD Karthik         4377"
            ]
          },
          "execution_count": 31,
          "metadata": {},
          "output_type": "execute_result"
        }
      ],
      "source": [
        "# code here\n",
        "df = pd.read_csv('D:\\\\Coding journey 2024\\\\datascience\\\\panda\\\\task_Datasets\\\\csv\\\\batsman_runs_series.csv')\n",
        "df.sort_values('batsman_run',ascending = False).head(10)"
      ]
    },
    {
      "cell_type": "markdown",
      "metadata": {
        "id": "GzlCFBM_Y83g"
      },
      "source": [
        "###`Q-7` No of players having runs above 3000"
      ]
    },
    {
      "cell_type": "code",
      "execution_count": 37,
      "metadata": {
        "id": "JdNchHRWY1B-"
      },
      "outputs": [
        {
          "data": {
            "text/plain": [
              "20"
            ]
          },
          "execution_count": 37,
          "metadata": {},
          "output_type": "execute_result"
        }
      ],
      "source": [
        "# code here\n",
        "df[df['batsman_run']>3000].shape[0]"
      ]
    },
    {
      "cell_type": "markdown",
      "metadata": {
        "id": "pMBEoCL1Y-vh"
      },
      "source": [
        "###`Q-8` No of players having runs above mean value?"
      ]
    },
    {
      "cell_type": "code",
      "execution_count": 39,
      "metadata": {
        "id": "LgtViVFZZBIu"
      },
      "outputs": [
        {
          "data": {
            "text/plain": [
              "128"
            ]
          },
          "execution_count": 39,
          "metadata": {},
          "output_type": "execute_result"
        }
      ],
      "source": [
        "# code here\n",
        "df[df['batsman_run']>df['batsman_run'].mean()].shape[0]"
      ]
    },
    {
      "cell_type": "markdown",
      "metadata": {
        "id": "OAB1CgdgZEqE"
      },
      "source": [
        "Download data - https://drive.google.com/file/d/1QZuZ5bypUInfVvarHACLAi8tXXHvb8xd/view?usp=share_link\n",
        "\n",
        "file name - items.csv\n",
        "\n"
      ]
    },
    {
      "cell_type": "markdown",
      "metadata": {
        "id": "1UTQQImxZGLu"
      },
      "source": [
        "###`Q-9`\n",
        "    i. Read `items.csv` making `item_name` as index.\n",
        "    ii. Show no of nan values\n",
        "    ii. Item price is given in $, so convert it to rupees without currency symbol.\n",
        "    iii. Make data type of newly made series as float.\n",
        "    iv. Fill nan with mean of the series\n",
        "\n",
        "\n",
        "How csv file looks\n",
        "\n",
        "```\n",
        "item_name\titem_price\n",
        "Chips and Fresh Tomato Salsa\t$2.39\n",
        "Izze\t$3.39\n",
        "Nantucket Nectar\t$3.39\n",
        "Chips and Tomatillo-Green Chili Salsa\t$2.39\n",
        "Chicken Bowl\t$16.98\n",
        "\n",
        "```"
      ]
    },
    {
      "cell_type": "code",
      "execution_count": 54,
      "metadata": {
        "id": "1xaWkoMJZFNK"
      },
      "outputs": [
        {
          "data": {
            "text/plain": [
              "item_name\n",
              "Chips and Fresh Tomato Salsa              $2.39 \n",
              "Izze                                      $3.39 \n",
              "Nantucket Nectar                          $3.39 \n",
              "Chips and Tomatillo-Green Chili Salsa     $2.39 \n",
              "Chicken Bowl                             $16.98 \n",
              "                                          ...   \n",
              "Steak Burrito                            $11.75 \n",
              "Steak Burrito                            $11.75 \n",
              "Chicken Salad Bowl                       $11.25 \n",
              "Chicken Salad Bowl                        $8.75 \n",
              "Chicken Salad Bowl                        $8.75 \n",
              "Name: item_price, Length: 4622, dtype: object"
            ]
          },
          "execution_count": 54,
          "metadata": {},
          "output_type": "execute_result"
        }
      ],
      "source": [
        "# code here\n",
        "df = pd.read_csv('D:\\\\Coding journey 2024\\\\datascience\\\\panda\\\\task_Datasets\\\\csv\\\\items.csv', index_col = ['item_name']).squeeze(\"columns\")\n",
        "df"
      ]
    },
    {
      "cell_type": "code",
      "execution_count": null,
      "metadata": {},
      "outputs": [
        {
          "ename": "TypeError",
          "evalue": "cannot convert the series to <class 'float'>",
          "output_type": "error",
          "traceback": [
            "\u001b[1;31m---------------------------------------------------------------------------\u001b[0m",
            "\u001b[1;31mTypeError\u001b[0m                                 Traceback (most recent call last)",
            "Cell \u001b[1;32mIn[48], line 9\u001b[0m\n\u001b[0;32m      7\u001b[0m         y \u001b[38;5;241m=\u001b[39m x\n\u001b[0;32m      8\u001b[0m     \u001b[38;5;28;01mreturn\u001b[39;00m \u001b[38;5;28mfloat\u001b[39m(y)\u001b[38;5;241m*\u001b[39m\u001b[38;5;241m82.49\u001b[39m\n\u001b[1;32m----> 9\u001b[0m df\u001b[38;5;241m.\u001b[39mapply(rupees)\n",
            "File \u001b[1;32mc:\\Users\\One\\anaconda3\\Lib\\site-packages\\pandas\\core\\frame.py:10034\u001b[0m, in \u001b[0;36mDataFrame.apply\u001b[1;34m(self, func, axis, raw, result_type, args, by_row, **kwargs)\u001b[0m\n\u001b[0;32m  10022\u001b[0m \u001b[38;5;28;01mfrom\u001b[39;00m \u001b[38;5;21;01mpandas\u001b[39;00m\u001b[38;5;21;01m.\u001b[39;00m\u001b[38;5;21;01mcore\u001b[39;00m\u001b[38;5;21;01m.\u001b[39;00m\u001b[38;5;21;01mapply\u001b[39;00m \u001b[38;5;28;01mimport\u001b[39;00m frame_apply\n\u001b[0;32m  10024\u001b[0m op \u001b[38;5;241m=\u001b[39m frame_apply(\n\u001b[0;32m  10025\u001b[0m     \u001b[38;5;28mself\u001b[39m,\n\u001b[0;32m  10026\u001b[0m     func\u001b[38;5;241m=\u001b[39mfunc,\n\u001b[1;32m   (...)\u001b[0m\n\u001b[0;32m  10032\u001b[0m     kwargs\u001b[38;5;241m=\u001b[39mkwargs,\n\u001b[0;32m  10033\u001b[0m )\n\u001b[1;32m> 10034\u001b[0m \u001b[38;5;28;01mreturn\u001b[39;00m op\u001b[38;5;241m.\u001b[39mapply()\u001b[38;5;241m.\u001b[39m__finalize__(\u001b[38;5;28mself\u001b[39m, method\u001b[38;5;241m=\u001b[39m\u001b[38;5;124m\"\u001b[39m\u001b[38;5;124mapply\u001b[39m\u001b[38;5;124m\"\u001b[39m)\n",
            "File \u001b[1;32mc:\\Users\\One\\anaconda3\\Lib\\site-packages\\pandas\\core\\apply.py:837\u001b[0m, in \u001b[0;36mFrameApply.apply\u001b[1;34m(self)\u001b[0m\n\u001b[0;32m    834\u001b[0m \u001b[38;5;28;01melif\u001b[39;00m \u001b[38;5;28mself\u001b[39m\u001b[38;5;241m.\u001b[39mraw:\n\u001b[0;32m    835\u001b[0m     \u001b[38;5;28;01mreturn\u001b[39;00m \u001b[38;5;28mself\u001b[39m\u001b[38;5;241m.\u001b[39mapply_raw()\n\u001b[1;32m--> 837\u001b[0m \u001b[38;5;28;01mreturn\u001b[39;00m \u001b[38;5;28mself\u001b[39m\u001b[38;5;241m.\u001b[39mapply_standard()\n",
            "File \u001b[1;32mc:\\Users\\One\\anaconda3\\Lib\\site-packages\\pandas\\core\\apply.py:965\u001b[0m, in \u001b[0;36mFrameApply.apply_standard\u001b[1;34m(self)\u001b[0m\n\u001b[0;32m    964\u001b[0m \u001b[38;5;28;01mdef\u001b[39;00m \u001b[38;5;21mapply_standard\u001b[39m(\u001b[38;5;28mself\u001b[39m):\n\u001b[1;32m--> 965\u001b[0m     results, res_index \u001b[38;5;241m=\u001b[39m \u001b[38;5;28mself\u001b[39m\u001b[38;5;241m.\u001b[39mapply_series_generator()\n\u001b[0;32m    967\u001b[0m     \u001b[38;5;66;03m# wrap results\u001b[39;00m\n\u001b[0;32m    968\u001b[0m     \u001b[38;5;28;01mreturn\u001b[39;00m \u001b[38;5;28mself\u001b[39m\u001b[38;5;241m.\u001b[39mwrap_results(results, res_index)\n",
            "File \u001b[1;32mc:\\Users\\One\\anaconda3\\Lib\\site-packages\\pandas\\core\\apply.py:981\u001b[0m, in \u001b[0;36mFrameApply.apply_series_generator\u001b[1;34m(self)\u001b[0m\n\u001b[0;32m    978\u001b[0m \u001b[38;5;28;01mwith\u001b[39;00m option_context(\u001b[38;5;124m\"\u001b[39m\u001b[38;5;124mmode.chained_assignment\u001b[39m\u001b[38;5;124m\"\u001b[39m, \u001b[38;5;28;01mNone\u001b[39;00m):\n\u001b[0;32m    979\u001b[0m     \u001b[38;5;28;01mfor\u001b[39;00m i, v \u001b[38;5;129;01min\u001b[39;00m \u001b[38;5;28menumerate\u001b[39m(series_gen):\n\u001b[0;32m    980\u001b[0m         \u001b[38;5;66;03m# ignore SettingWithCopy here in case the user mutates\u001b[39;00m\n\u001b[1;32m--> 981\u001b[0m         results[i] \u001b[38;5;241m=\u001b[39m \u001b[38;5;28mself\u001b[39m\u001b[38;5;241m.\u001b[39mfunc(v, \u001b[38;5;241m*\u001b[39m\u001b[38;5;28mself\u001b[39m\u001b[38;5;241m.\u001b[39margs, \u001b[38;5;241m*\u001b[39m\u001b[38;5;241m*\u001b[39m\u001b[38;5;28mself\u001b[39m\u001b[38;5;241m.\u001b[39mkwargs)\n\u001b[0;32m    982\u001b[0m         \u001b[38;5;28;01mif\u001b[39;00m \u001b[38;5;28misinstance\u001b[39m(results[i], ABCSeries):\n\u001b[0;32m    983\u001b[0m             \u001b[38;5;66;03m# If we have a view on v, we need to make a copy because\u001b[39;00m\n\u001b[0;32m    984\u001b[0m             \u001b[38;5;66;03m#  series_generator will swap out the underlying data\u001b[39;00m\n\u001b[0;32m    985\u001b[0m             results[i] \u001b[38;5;241m=\u001b[39m results[i]\u001b[38;5;241m.\u001b[39mcopy(deep\u001b[38;5;241m=\u001b[39m\u001b[38;5;28;01mFalse\u001b[39;00m)\n",
            "Cell \u001b[1;32mIn[48], line 8\u001b[0m, in \u001b[0;36mrupees\u001b[1;34m(x)\u001b[0m\n\u001b[0;32m      5\u001b[0m \u001b[38;5;28;01mexcept\u001b[39;00m:\n\u001b[0;32m      6\u001b[0m     \u001b[38;5;66;03m# Sometimes Dollar sign is not there which throws an exception \u001b[39;00m\n\u001b[0;32m      7\u001b[0m     y \u001b[38;5;241m=\u001b[39m x\n\u001b[1;32m----> 8\u001b[0m \u001b[38;5;28;01mreturn\u001b[39;00m \u001b[38;5;28mfloat\u001b[39m(y)\u001b[38;5;241m*\u001b[39m\u001b[38;5;241m82.49\u001b[39m\n",
            "File \u001b[1;32mc:\\Users\\One\\anaconda3\\Lib\\site-packages\\pandas\\core\\series.py:230\u001b[0m, in \u001b[0;36m_coerce_method.<locals>.wrapper\u001b[1;34m(self)\u001b[0m\n\u001b[0;32m    222\u001b[0m     warnings\u001b[38;5;241m.\u001b[39mwarn(\n\u001b[0;32m    223\u001b[0m         \u001b[38;5;124mf\u001b[39m\u001b[38;5;124m\"\u001b[39m\u001b[38;5;124mCalling \u001b[39m\u001b[38;5;132;01m{\u001b[39;00mconverter\u001b[38;5;241m.\u001b[39m\u001b[38;5;18m__name__\u001b[39m\u001b[38;5;132;01m}\u001b[39;00m\u001b[38;5;124m on a single element Series is \u001b[39m\u001b[38;5;124m\"\u001b[39m\n\u001b[0;32m    224\u001b[0m         \u001b[38;5;124m\"\u001b[39m\u001b[38;5;124mdeprecated and will raise a TypeError in the future. \u001b[39m\u001b[38;5;124m\"\u001b[39m\n\u001b[1;32m   (...)\u001b[0m\n\u001b[0;32m    227\u001b[0m         stacklevel\u001b[38;5;241m=\u001b[39mfind_stack_level(),\n\u001b[0;32m    228\u001b[0m     )\n\u001b[0;32m    229\u001b[0m     \u001b[38;5;28;01mreturn\u001b[39;00m converter(\u001b[38;5;28mself\u001b[39m\u001b[38;5;241m.\u001b[39miloc[\u001b[38;5;241m0\u001b[39m])\n\u001b[1;32m--> 230\u001b[0m \u001b[38;5;28;01mraise\u001b[39;00m \u001b[38;5;167;01mTypeError\u001b[39;00m(\u001b[38;5;124mf\u001b[39m\u001b[38;5;124m\"\u001b[39m\u001b[38;5;124mcannot convert the series to \u001b[39m\u001b[38;5;132;01m{\u001b[39;00mconverter\u001b[38;5;132;01m}\u001b[39;00m\u001b[38;5;124m\"\u001b[39m)\n",
            "\u001b[1;31mTypeError\u001b[0m: cannot convert the series to <class 'float'>"
          ]
        }
      ],
      "source": [
        "df.isna().sum()\n",
        "def rupees(x):\n",
        "    try:\n",
        "        y = x[1:]\n",
        "    except:\n",
        "        # Sometimes Dollar sign is not there which throws an exception \n",
        "        y = x\n",
        "    return float(y)*82.49\n",
        "    \n",
        "df.apply(rupees)\n"
      ]
    },
    {
      "cell_type": "markdown",
      "metadata": {
        "id": "UHc_4e9cZK8r"
      },
      "source": [
        "###`Q-10`:\n",
        "    i. Find mean price\n",
        "    ii. Find 30th and 6th percentile value\n",
        "    iii. Plot Histogram on price with bin size 50\n",
        "    iv. No of items price lies between [1000 to 2000]\n",
        "\n"
      ]
    },
    {
      "cell_type": "code",
      "execution_count": null,
      "metadata": {
        "id": "Eh3xX9FpZNmE"
      },
      "outputs": [],
      "source": [
        "# code here"
      ]
    }
  ],
  "metadata": {
    "colab": {
      "provenance": []
    },
    "kernelspec": {
      "display_name": "Python 3",
      "name": "python3"
    },
    "language_info": {
      "codemirror_mode": {
        "name": "ipython",
        "version": 3
      },
      "file_extension": ".py",
      "mimetype": "text/x-python",
      "name": "python",
      "nbconvert_exporter": "python",
      "pygments_lexer": "ipython3",
      "version": "3.11.7"
    }
  },
  "nbformat": 4,
  "nbformat_minor": 0
}
